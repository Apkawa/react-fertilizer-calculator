{
 "cells": [
  {
   "cell_type": "markdown",
   "id": "c10ebb1f",
   "metadata": {},
   "source": [
    "# Расчет разбавления\n",
    "\n",
    "\n",
    "Формула разбавления\n",
    "\n",
    "$$ C_1V_1 = C_2V_2 $$\n",
    "\n",
    "\n",
    "\n",
    "## Refs\n",
    "\n",
    "* https://en.wikipedia.org/wiki/Dilution_(equation)\n",
    "* https://ru.wikipedia.org/wiki/%D0%A0%D0%B0%D0%B7%D0%B1%D0%B0%D0%B2%D0%BB%D0%B5%D0%BD%D0%B8%D0%B5"
   ]
  },
  {
   "cell_type": "code",
   "execution_count": 4,
   "id": "768d18ad",
   "metadata": {},
   "outputs": [],
   "source": [
    "import sys\n",
    "\n",
    "import sympy as sym\n",
    "sym.init_printing()\n",
    "from IPython.display import Math, display"
   ]
  },
  {
   "cell_type": "code",
   "execution_count": 73,
   "id": "f8b2f532",
   "metadata": {
    "scrolled": true
   },
   "outputs": [
    {
     "name": "stdout",
     "output_type": "stream",
     "text": [
      "Равенство разбавления\n"
     ]
    },
    {
     "data": {
      "image/png": "[encoded data removed]",
      "text/latex": [
       "$\\displaystyle C_{1} V_{1} = C_{2} V_{2}$"
      ],
      "text/plain": [
       "C₁⋅V₁ = C₂⋅V₂"
      ]
     },
     "metadata": {},
     "output_type": "display_data"
    },
    {
     "name": "stdout",
     "output_type": "stream",
     "text": [
      "Т.к. С_2 всегда равен 1, то формула несколько упрощается\n"
     ]
    },
    {
     "data": {
      "image/png": "[encoded data removed]",
      "text/latex": [
       "$\\displaystyle C_{1} V_{1} = V_{2}$"
      ],
      "text/plain": [
       "C₁⋅V₁ = V₂"
      ]
     },
     "metadata": {},
     "output_type": "display_data"
    },
    {
     "name": "stdout",
     "output_type": "stream",
     "text": [
      "А объем концентрата\n"
     ]
    },
    {
     "data": {
      "image/png": "[encoded data removed]",
      "text/latex": [
       "$\\displaystyle V_{1} = \\frac{V_{2}}{C_{1}}$"
      ],
      "text/plain": [
       "     V₂\n",
       "V₁ = ──\n",
       "     C₁"
      ]
     },
     "metadata": {},
     "output_type": "display_data"
    },
    {
     "name": "stdout",
     "output_type": "stream",
     "text": [
      "Коэфициент разбавления концентрата, C_2 = 1\n"
     ]
    },
    {
     "data": {
      "image/png": "[encoded data removed]",
      "text/latex": [
       "$\\displaystyle C_{1} = \\frac{V_{2}}{V_{1}}$"
      ],
      "text/plain": [
       "     V₂\n",
       "C₁ = ──\n",
       "     V₁"
      ]
     },
     "metadata": {},
     "output_type": "display_data"
    }
   ],
   "source": [
    "# Dillution equal\n",
    "\n",
    "C_1, V_1, C_2, V_2 = sym.symbols(['C_1', 'V_1', 'C_2', 'V_2'])\n",
    "print(\"Равенство разбавления\")\n",
    "D_eq = sym.Eq(C_1*V_1, C_2* V_2)\n",
    "display(D_eq)\n",
    "print(\"Т.к. С_2 всегда равен 1, то формула несколько упрощается\")\n",
    "D_eq = D_eq.subs({C_2: 1})\n",
    "\n",
    "V_con = sym.solve(D_eq, V_1)[0]\n",
    "display(D_eq)\n",
    "print(\"А объем концентрата\")\n",
    "display(sym.Eq(V_1, V_con))\n",
    "\n",
    "print(\"Коэфициент разбавления концентрата, C_2 = 1\")\n",
    "C_con = sym.solve(D_eq, C_1)[0]\n",
    "display(sym.Eq(C_1, C_con))\n"
   ]
  },
  {
   "cell_type": "markdown",
   "id": "150acfc7",
   "metadata": {},
   "source": [
    "Допустим, у нас есть концентрат 1мл на 1л, \n",
    "\n",
    "Тогда итоговый объем концентрата для 3л раствора считается следующим образом:\n"
   ]
  },
  {
   "cell_type": "code",
   "execution_count": 61,
   "id": "5684f94a",
   "metadata": {},
   "outputs": [
    {
     "name": "stdout",
     "output_type": "stream",
     "text": [
      "{C_1: 1000.0*C_2, C_2: 1, V_2: 3000}\n",
      "V_1 = 3.00000000000000 мл\n"
     ]
    }
   ],
   "source": [
    "c1 = С_con.subs({\n",
    "    V_1: 1, \n",
    "    V_2: 1000\n",
    "})\n",
    "repl = {C_1: c1.n(), V_2: 3 * 1000 # мл\n",
    "       }\n",
    "print(repl)\n",
    "print('V_1 = {} мл'.format(V_con.subs(repl, evaluate=False)))"
   ]
  },
  {
   "cell_type": "code",
   "execution_count": 75,
   "id": "6cee9226",
   "metadata": {},
   "outputs": [
    {
     "name": "stdout",
     "output_type": "stream",
     "text": [
      "Допустим, концентрат 35мл на 5л. Нужен раствор на 10л\n",
      "Считаем Коэфициент разбавления\n"
     ]
    },
    {
     "data": {
      "image/png": "[encoded data removed]",
      "text/latex": [
       "$\\displaystyle C_{1} = 142.857142857143$"
      ],
      "text/plain": [
       "C₁ = 142.857142857143"
      ]
     },
     "metadata": {},
     "output_type": "display_data"
    },
    {
     "name": "stdout",
     "output_type": "stream",
     "text": [
      "Концентрация концентрата 10000.0/V_1\n",
      "{C_1: 142.857142857143, V_2: 10000}\n",
      "Итого объем концентрата V_1 = 70.0000000000000 мл\n"
     ]
    }
   ],
   "source": [
    "print(\"Допустим, концентрат 35мл на 5л. Нужен раствор на 10л\")\n",
    "print(\"Считаем Коэфициент разбавления\")\n",
    "c1 = C_con.subs({\n",
    "    V_2: 5*1000, # в мл\n",
    "    V_1: 35, \n",
    "\n",
    "})\n",
    "display(sym.Eq(C_1, c1.n()))\n",
    "\n",
    "print(\"Концентрация концентрата\", C_con.subs(repl).n())\n",
    "\n",
    "repl = {C_1: c1.n(), V_2: 10*1000}\n",
    "print(repl)\n",
    "print('Итого объем концентрата V_1 = {} мл'.format(V_con.subs(repl)))\n"
   ]
  },
  {
   "cell_type": "code",
   "execution_count": 84,
   "id": "49ba02c3",
   "metadata": {},
   "outputs": [
    {
     "name": "stdout",
     "output_type": "stream",
     "text": [
      "Допустим концентрат с коэфициентом разбавления = 142.86. Хотим узнать сколько мл на 1л\n",
      "V_{1} = 6.99986000279994 мл\n",
      "На 5 л:  34.9993000139997 мл\n"
     ]
    }
   ],
   "source": [
    "print(\"Допустим концентрат с коэфициентом разбавления = 142.86. Хотим узнать сколько мл на 1л\")\n",
    "v1 = V_con.subs({\n",
    "    C_1: 142.86, V_2: 1000 # мл\n",
    "                               })\n",
    "print(sym.latex(sym.Eq(V_1, v1)), 'мл')\n",
    "print(\"На 5 л: \", v1*5, 'мл')\n"
   ]
  },
  {
   "cell_type": "code",
   "execution_count": null,
   "id": "87647987",
   "metadata": {},
   "outputs": [],
   "source": []
  }
 ],
 "metadata": {
  "kernelspec": {
   "display_name": "Python 3 (ipykernel)",
   "language": "python",
   "name": "python3"
  },
  "language_info": {
   "codemirror_mode": {
    "name": "ipython",
    "version": 3
   },
   "file_extension": ".py",
   "mimetype": "text/x-python",
   "name": "python",
   "nbconvert_exporter": "python",
   "pygments_lexer": "ipython3",
   "version": "3.12.3"
  }
 },
 "nbformat": 4,
 "nbformat_minor": 5
}
