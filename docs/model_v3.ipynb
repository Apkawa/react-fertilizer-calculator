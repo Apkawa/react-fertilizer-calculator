{
 "cells": [
  {
   "cell_type": "markdown",
   "metadata": {
    "collapsed": true,
    "pycharm": {
     "name": "#%% md\n"
    }
   },
   "source": [
    "# Модель расчетов\n",
    "\n",
    "Расчет профиля и навески разбит на несколько этапов\n",
    "\n",
    "1. Оптимизация профиля по ионному балансу.\n",
    "   Профиль оптимизируется по сере и хлору\n",
    "2. Перерасчет профиля по требуемому EC \n",
    "3. Перерасчет профиля по коэфициентам\n",
    "4. Расчет навески удобрений"
   ]
  },
  {
   "cell_type": "markdown",
   "metadata": {},
   "source": [
    "# Расчет EC\n",
    "\n",
    "## Формула Зоневельда\n",
    "\n",
    "ref: [A UNIVERSAL ALGORITHM FOR CALCULATION OF NUTRIENT SOLUTIONS C. Sonneveld, W. Voogt, L. Spaans](https://www.actahort.org/books/481/481_38.htm) [pdf](https://ru.scribd.com/document/443057487/sonneveld1999)\n",
    "\n",
    "Выполняется при условии того что ионный баланс равен нулю\n",
    "\n",
    "$$ \\left(\n",
    "\\frac{m_{NH_4}}{M_N} +\n",
    "     \\frac{2  m_{Ca}}{M_{Ca}} + \n",
    "     \\frac{2  m_{Mg}}{M_{Mg}} +\n",
    "     \\frac{m_{K}}{M_{K}} \n",
    "\\right)\n",
    "     - \n",
    "     \\left(\n",
    "     \\frac{m_{NO_3}}{M_N} + \n",
    "     \\frac{m_{P}}{M_{P}} +\n",
    "     \\frac{2m_{S}}{M_{S}} + \n",
    "     \\frac{m_{Cl}}{M_{Cl}} \n",
    "     \\right)\n",
    "     = 0 $$\n",
    "     \n",
    "Тогда:\n",
    "     \n",
    "$$ EC = 0.095  \n",
    "    \\left( \n",
    "     \\frac{m_{NH_4}}{M_N} +\n",
    "     \\frac{2  m_{Ca}}{M_{Ca}} + \n",
    "     \\frac{2  m_{Mg}}{M_{Mg}} +\n",
    "     \\frac{m_{K}}{M_{K}}\n",
    "     \\right) + 0.19 $$\n",
    "\n",
    "Где: \\\n",
    "$M$ --- молярная масса\\\n",
    "$m$ --- профиль, в мг/л (ppm)\n",
    "\n"
   ]
  },
  {
   "cell_type": "code",
   "execution_count": 59,
   "metadata": {
    "pycharm": {
     "name": "#%%\n"
    }
   },
   "outputs": [
    {
     "name": "stdout",
     "output_type": "stream",
     "text": [
      "20.183806662456348 20.183620939926474\n",
      "I = 0.00\n",
      "EC = 2.107\n"
     ]
    }
   ],
   "source": [
    "m_NO3 = 220\n",
    "m_NH4 = 20\n",
    "m_P = 40\n",
    "m_K = 280\n",
    "m_Ca = 140\n",
    "m_Mg = 56\n",
    "m_S = 51.07\n",
    "m_Cl = 0\n",
    "\n",
    "M_N = 14.0067\n",
    "M_Ca = 40.078\n",
    "M_Mg = 24.305\n",
    "M_K = 39.0983\n",
    "M_P = 30.973\n",
    "M_S = 32.065\n",
    "M_Cl = 35.45\n",
    "\n",
    "\n",
    "cations = ((m_NH4/ M_N) + ((2*m_Ca) / M_Ca) + ((2*m_Mg) / M_Mg) + (m_K / M_K) )\n",
    "\n",
    "anions = ((m_NO3/ M_N) + (m_P / M_P) + ((2*m_S)/ M_S) + (m_Cl/ M_Cl))\n",
    "\n",
    "\n",
    "EC = (0.095 * cations) + 0.19\n",
    "print(cations, anions)\n",
    "print(f'I = {cations-anions:0.2f}')\n",
    "print(f'EC = {EC:.3f}')\n"
   ]
  },
  {
   "cell_type": "markdown",
   "metadata": {},
   "source": [
    "## Ионный баланс профиля\n",
    "\n",
    "Оптимизация профиля достижением нулевого ионного баланса (сумма катионов и анионов должна быть равна нулю)\n",
    "\n",
    "Основой является формула ионного баланса\n",
    "\n",
    "$$ \\left(\n",
    "\\frac{m_{NH_4}}{M_N} +\n",
    "     \\frac{2  m_{Ca}}{M_{Ca}} + \n",
    "     \\frac{2  m_{Mg}}{M_{Mg}} +\n",
    "     \\frac{m_{K}}{M_{K}} \n",
    "\\right)\n",
    "     - \n",
    "     \\left(\n",
    "     \\frac{m_{NO_3}}{M_N} + \n",
    "     \\frac{m_{P}}{M_{P}} +\n",
    "     \\frac{2m_{S}}{M_{S}} + \n",
    "     \\frac{m_{Cl}}{M_{Cl}} \n",
    "     \\right)\n",
    "     = 0 $$\n",
    "\n",
    "Баланс производится по сере или кальцию, в зависимости от того что крутим\n",
    "\n"
   ]
  },
  {
   "cell_type": "code",
   "execution_count": 60,
   "metadata": {},
   "outputs": [
    {
     "name": "stdout",
     "output_type": "stream",
     "text": [
      "\u001b[1;31merror\u001b[0m: \u001b[1mexternally-managed-environment\u001b[0m\r\n",
      "\r\n",
      "\u001b[31m×\u001b[0m This environment is externally managed\r\n",
      "\u001b[31m╰─>\u001b[0m To install Python packages system-wide, try apt install\r\n",
      "\u001b[31m   \u001b[0m python3-xyz, where xyz is the package you are trying to\r\n",
      "\u001b[31m   \u001b[0m install.\r\n",
      "\u001b[31m   \u001b[0m \r\n",
      "\u001b[31m   \u001b[0m If you wish to install a non-Debian-packaged Python package,\r\n",
      "\u001b[31m   \u001b[0m create a virtual environment using python3 -m venv path/to/venv.\r\n",
      "\u001b[31m   \u001b[0m Then use path/to/venv/bin/python and path/to/venv/bin/pip. Make\r\n",
      "\u001b[31m   \u001b[0m sure you have python3-full installed.\r\n",
      "\u001b[31m   \u001b[0m \r\n",
      "\u001b[31m   \u001b[0m If you wish to install a non-Debian packaged Python application,\r\n",
      "\u001b[31m   \u001b[0m it may be easiest to use pipx install xyz, which will manage a\r\n",
      "\u001b[31m   \u001b[0m virtual environment for you. Make sure you have pipx installed.\r\n",
      "\u001b[31m   \u001b[0m \r\n",
      "\u001b[31m   \u001b[0m See /usr/share/doc/python3.12/README.venv for more information.\r\n",
      "\r\n",
      "\u001b[1;35mnote\u001b[0m: If you believe this is a mistake, please contact your Python installation or OS distribution provider. You can override this, at the risk of breaking your Python installation or OS, by passing --break-system-packages.\r\n",
      "\u001b[1;36mhint\u001b[0m: See PEP 668 for the detailed specification.\r\n"
     ]
    }
   ],
   "source": [
    "# Install a pip package in the current Jupyter kernel\n",
    "import sys\n",
    "!{sys.executable} -m pip install sympy numpy scipy\n",
    "\n",
    "import sympy as sym\n",
    "from sympy import Eq\n",
    "sym.init_printing()\n",
    "from IPython.display import Math, display, Latex\n",
    "\n",
    "\n",
    "def display_equation(equation_list):\n",
    "    l = r\"\"\"\n",
    "\\begin{cases} \n",
    "  %s \\\\\n",
    "\\end{cases}\n",
    "\"\"\" % r\" \\\\ \".join(map(sym.latex, equation_list))\n",
    "    display(Latex(l))"
   ]
  },
  {
   "cell_type": "code",
   "execution_count": 61,
   "metadata": {
    "scrolled": false
   },
   "outputs": [
    {
     "name": "stdout",
     "output_type": "stream",
     "text": [
      "Проверка что профиль сбалансирован\n",
      "I = 0.000\n",
      "m_S = 51.07\n",
      "I = 0.000\n",
      "Сера через кальций\n"
     ]
    },
    {
     "data": {
      "image/png": "[encoded data removed]",
      "text/latex": [
       "$\\displaystyle m_{S} = \\frac{- M_{Ca} M_{Cl} M_{K} M_{Mg} M_{NH4} M_{NO3} M_{S} m_{P} - M_{Ca} M_{Cl} M_{K} M_{Mg} M_{NH4} M_{P} M_{S} m_{NO3} + M_{Ca} M_{Cl} M_{K} M_{Mg} M_{NO3} M_{P} M_{S} m_{NH4} + 2 M_{Ca} M_{Cl} M_{K} M_{NH4} M_{NO3} M_{P} M_{S} m_{Mg} + M_{Ca} M_{Cl} M_{Mg} M_{NH4} M_{NO3} M_{P} M_{S} m_{K} - M_{Ca} M_{K} M_{Mg} M_{NH4} M_{NO3} M_{P} M_{S} m_{Cl} + 2 M_{Cl} M_{K} M_{Mg} M_{NH4} M_{NO3} M_{P} M_{S} m_{Ca}}{2 M_{Ca} M_{Cl} M_{K} M_{Mg} M_{NH4} M_{NO3} M_{P}}$"
      ],
      "text/plain": [
       "      -M_Ca⋅M_Cl⋅M_K⋅M_Mg⋅M_NH4⋅M_NO3⋅M_S⋅m_P - M_Ca⋅M_Cl⋅M_K⋅M_Mg⋅M_NH4⋅M_P⋅M_S⋅m_NO3 + M_Ca⋅M_Cl⋅M_K⋅M_Mg⋅M_NO3⋅M_P⋅M_S⋅m_NH4 + 2⋅M_Ca⋅M_Cl⋅M_K⋅M_NH4⋅M_NO3⋅M_P⋅M_S⋅m_Mg + M_Ca⋅M_Cl⋅M_Mg⋅M_NH4⋅M_\n",
       "m_S = ──────────────────────────────────────────────────────────────────────────────────────────────────────────────────────────────────────────────────────────────────────────────────────────────\n",
       "                                                                                                                                     2⋅M_Ca⋅M_Cl⋅M_K⋅M_Mg⋅M_NH4⋅M_NO3⋅M_P                           \n",
       "\n",
       "NO3⋅M_P⋅M_S⋅m_K - M_Ca⋅M_K⋅M_Mg⋅M_NH4⋅M_NO3⋅M_P⋅M_S⋅m_Cl + 2⋅M_Cl⋅M_K⋅M_Mg⋅M_NH4⋅M_NO3⋅M_P⋅M_S⋅m_Ca\n",
       "───────────────────────────────────────────────────────────────────────────────────────────────────\n",
       "                                                                                                   "
      ]
     },
     "metadata": {},
     "output_type": "display_data"
    },
    {
     "name": "stdout",
     "output_type": "stream",
     "text": [
      "m_S = 73.05\n",
      "I = 0.000\n",
      "Кальций через серу\n"
     ]
    },
    {
     "data": {
      "image/png": "[encoded data removed]",
      "text/latex": [
       "$\\displaystyle m_{Ca} = \\frac{2 M_{Ca} M_{Cl} M_{K} M_{Mg} M_{NH4} M_{NO3} M_{P} m_{S} + M_{Ca} M_{Cl} M_{K} M_{Mg} M_{NH4} M_{NO3} M_{S} m_{P} + M_{Ca} M_{Cl} M_{K} M_{Mg} M_{NH4} M_{P} M_{S} m_{NO3} - M_{Ca} M_{Cl} M_{K} M_{Mg} M_{NO3} M_{P} M_{S} m_{NH4} - 2 M_{Ca} M_{Cl} M_{K} M_{NH4} M_{NO3} M_{P} M_{S} m_{Mg} - M_{Ca} M_{Cl} M_{Mg} M_{NH4} M_{NO3} M_{P} M_{S} m_{K} + M_{Ca} M_{K} M_{Mg} M_{NH4} M_{NO3} M_{P} M_{S} m_{Cl}}{2 M_{Cl} M_{K} M_{Mg} M_{NH4} M_{NO3} M_{P} M_{S}}$"
      ],
      "text/plain": [
       "       2⋅M_Ca⋅M_Cl⋅M_K⋅M_Mg⋅M_NH4⋅M_NO3⋅M_P⋅m_S + M_Ca⋅M_Cl⋅M_K⋅M_Mg⋅M_NH4⋅M_NO3⋅M_S⋅m_P + M_Ca⋅M_Cl⋅M_K⋅M_Mg⋅M_NH4⋅M_P⋅M_S⋅m_NO3 - M_Ca⋅M_Cl⋅M_K⋅M_Mg⋅M_NO3⋅M_P⋅M_S⋅m_NH4 - 2⋅M_Ca⋅M_Cl⋅M_K⋅M_NH4⋅M\n",
       "m_Ca = ─────────────────────────────────────────────────────────────────────────────────────────────────────────────────────────────────────────────────────────────────────────────────────────────\n",
       "                                                                                                                                     2⋅M_Cl⋅M_K⋅M_Mg⋅M_NH4⋅M_NO3⋅M_P⋅M_S                            \n",
       "\n",
       "_NO3⋅M_P⋅M_S⋅m_Mg - M_Ca⋅M_Cl⋅M_Mg⋅M_NH4⋅M_NO3⋅M_P⋅M_S⋅m_K + M_Ca⋅M_K⋅M_Mg⋅M_NH4⋅M_NO3⋅M_P⋅M_S⋅m_Cl\n",
       "───────────────────────────────────────────────────────────────────────────────────────────────────\n",
       "                                                                                                   "
      ]
     },
     "metadata": {},
     "output_type": "display_data"
    },
    {
     "name": "stdout",
     "output_type": "stream",
     "text": [
      "m_Ca = 200.00\n",
      "I = 0.000\n"
     ]
    }
   ],
   "source": [
    "import sympy as sym\n",
    "sym.init_printing()\n",
    "elements = ['NO3', 'NH4', 'P', 'K', 'Ca', 'Mg', 'S', 'Cl']\n",
    "\n",
    "m = dict(zip(elements, sym.symbols([f'm_{e}' for e in elements])))\n",
    "M = dict(zip(elements, sym.symbols([f'M_{e}' for e in elements])))\n",
    "\n",
    "repl = {\n",
    "m['NO3'] : 220,\n",
    "m['NH4'] : 20,\n",
    "m['P'] : 40,\n",
    "m['K'] : 280,    \n",
    "m['Ca'] : 140,\n",
    "m['Mg'] : 56,\n",
    "m['S']: 51.07,\n",
    "m['Cl']: 0,\n",
    "    # Молярные массы\n",
    "M['NO3'] : 14.0067, M['NH4'] : 14.0067, M['Ca'] : 40.078,\n",
    "M['Mg'] : 24.305, M['K'] : 39.0983, M['P'] : 30.973, M['S'] : 32.065, M['Cl']: 35.45,\n",
    "}\n",
    "\n",
    "# Уравнение ионного баланса\n",
    "Cations = ((m['NH4']/ M['NH4']) + ((2*m['Ca']) / M['Ca']) + ((2*m['Mg']) / M['Mg']) + (m['K'] / M['K']))\n",
    "Anions = ((m['NO3']/ M['NO3']) + (m['P'] / M['P']) + ((2*m['S'])/ M['S']) + (m['Cl']/ M['Cl']))\n",
    "Ionic_balance = sym.Eq((Cations - Anions), 0)\n",
    "\n",
    "I = (Cations - Anions).subs(repl)\n",
    "print(\"Проверка что профиль сбалансирован\")\n",
    "print(f\"I = {I:0.3f}\")\n",
    "\n",
    "# Решаем уравнение через серу\n",
    "solved_S = sym.solve([Ionic_balance],(m['S']))[m['S']]\n",
    "\n",
    "mS = solved_S.subs(repl)\n",
    "\n",
    "print(f'm_S = {mS:.2f}')\n",
    "\n",
    "I = (Cations - Anions).subs({**repl, **{m['S']: mS}})\n",
    "print(f\"I = {I:0.3f}\")\n",
    "\n",
    "print(\"Сера через кальций\")\n",
    "\n",
    "display(sym.Eq(m['S'], solved_S))\n",
    "r2 = {**repl, **{\n",
    "    m['NO3'] : 200,\n",
    "    m['NH4'] : 20,\n",
    "    m['P'] : 40,\n",
    "    m['K'] : 180,    \n",
    "    m['Ca'] : 200,\n",
    "    m['Mg'] : 50,\n",
    "}}\n",
    "mS = solved_S.subs(r2)\n",
    "print(f'm_S = {mS:.2f}')\n",
    "r2[m['S']] = mS\n",
    "I = (Cations - Anions).subs(r2)\n",
    "print(f\"I = {I:0.3f}\")\n",
    "\n",
    "print(\"Кальций через серу\")\n",
    "r2 = {**r2, **{m['S']: mS}}\n",
    "\n",
    "solved_Ca = sym.solve([Ionic_balance],(m['Ca']))[m['Ca']]\n",
    "display(sym.Eq(m['Ca'], solved_Ca))\n",
    "mCa = solved_Ca.subs(r2)\n",
    "print(f'm_Ca = {mCa:.2f}')\n",
    "\n",
    "I = (Cations - Anions).subs({**r2, **{m['Ca']: mCa}})\n",
    "print(f\"I = {I:0.3f}\")\n",
    "\n",
    "\n",
    "\n"
   ]
  },
  {
   "cell_type": "code",
   "execution_count": 62,
   "metadata": {},
   "outputs": [
    {
     "name": "stdout",
     "output_type": "stream",
     "text": [
      "(-M_Ca*M_Cl*M_K*M_Mg*M_NH4*M_NO3*M_S*m_P - M_Ca*M_Cl*M_K*M_Mg*M_NH4*M_P*M_S*m_NO3 + M_Ca*M_Cl*M_K*M_Mg*M_NO3*M_P*M_S*m_NH4 + 2*M_Ca*M_Cl*M_K*M_NH4*M_NO3*M_P*M_S*m_Mg + M_Ca*M_Cl*M_Mg*M_NH4*M_NO3*M_P*M_S*m_K - M_Ca*M_K*M_Mg*M_NH4*M_NO3*M_P*M_S*m_Cl + 2*M_Cl*M_K*M_Mg*M_NH4*M_NO3*M_P*M_S*m_Ca)/(2*M_Ca*M_Cl*M_K*M_Mg*M_NH4*M_NO3*M_P)\n",
      "(2*M_Ca*M_Cl*M_K*M_Mg*M_NH4*M_NO3*M_P*m_S + M_Ca*M_Cl*M_K*M_Mg*M_NH4*M_NO3*M_S*m_P + M_Ca*M_Cl*M_K*M_Mg*M_NH4*M_P*M_S*m_NO3 - M_Ca*M_Cl*M_K*M_Mg*M_NO3*M_P*M_S*m_NH4 - 2*M_Ca*M_Cl*M_K*M_NH4*M_NO3*M_P*M_S*m_Mg - M_Ca*M_Cl*M_Mg*M_NH4*M_NO3*M_P*M_S*m_K + M_Ca*M_K*M_Mg*M_NH4*M_NO3*M_P*M_S*m_Cl)/(2*M_Cl*M_K*M_Mg*M_NH4*M_NO3*M_P*M_S)\n"
     ]
    }
   ],
   "source": [
    "print(solved_S)\n",
    "print(solved_Ca)"
   ]
  },
  {
   "cell_type": "markdown",
   "metadata": {},
   "source": [
    "## ЕС профиля\n",
    "\n",
    "Коррекция профиля по EC производится по формуле Зоневельда\n",
    "\n",
    "$$ EC = 0.095  \n",
    "    \\left( \n",
    "     \\frac{m_{NH_4}  r}{M_N} +\n",
    "     \\frac{2  m_{Ca} r}{M_{Ca}} + \n",
    "     \\frac{2  m_{Mg} r}{M_{Mg}} +\n",
    "     \\frac{m_{K} r}{M_{K}}\n",
    "     \\right) + 0.19 $$\n",
    "     \n",
    "где:\n",
    "\n",
    "* $r$ - это коэфициент приведения\n",
    "* $m$ - это желаемый профиль в ppm\n",
    "* $M$ - молярная масса"
   ]
  },
  {
   "cell_type": "code",
   "execution_count": 63,
   "metadata": {
    "scrolled": false
   },
   "outputs": [
    {
     "name": "stdout",
     "output_type": "stream",
     "text": [
      "Решаем систему уравнений для NH3 и NO3\n"
     ]
    },
    {
     "data": {
      "text/latex": [
       "\n",
       "\\begin{cases} \n",
       "  m_{NH4} + m_{NO3} = m_{N} \\\\ \\frac{m_{NH4}}{m_{NO3}} = K_{NH4NO3} \\\\\n",
       "\\end{cases}\n"
      ],
      "text/plain": [
       "<IPython.core.display.Latex object>"
      ]
     },
     "metadata": {},
     "output_type": "display_data"
    },
    {
     "name": "stdout",
     "output_type": "stream",
     "text": [
      "Результат\n"
     ]
    },
    {
     "data": {
      "image/png": "[encoded data removed]",
      "text/latex": [
       "$\\displaystyle m_{NH4} = \\frac{K_{NH4NO3} m_{N}}{K_{NH4NO3} + 1}$"
      ],
      "text/plain": [
       "        K_NH4NO3⋅m_N\n",
       "m_NH4 = ────────────\n",
       "        K_NH4NO3 + 1"
      ]
     },
     "metadata": {},
     "output_type": "display_data"
    },
    {
     "data": {
      "image/png": "[encoded data removed]",
      "text/latex": [
       "$\\displaystyle m_{NO3} = \\frac{m_{N}}{K_{NH4NO3} + 1}$"
      ],
      "text/plain": [
       "            m_N     \n",
       "m_NO3 = ────────────\n",
       "        K_NH4NO3 + 1"
      ]
     },
     "metadata": {},
     "output_type": "display_data"
    },
    {
     "name": "stdout",
     "output_type": "stream",
     "text": [
      "Решаем систему уравнений для N, K, Ca, Mg\n"
     ]
    },
    {
     "data": {
      "text/latex": [
       "\n",
       "\\begin{cases} \n",
       "  m_{Ca} + m_{K} + m_{Mg} + m_{N} = 1 \\\\ \\frac{m_{K}}{m_{N}} = K_{KN} \\\\ \\frac{m_{K}}{m_{Ca}} = K_{KCa} \\\\ \\frac{m_{K}}{m_{Mg}} = K_{KMg} \\\\\n",
       "\\end{cases}\n"
      ],
      "text/plain": [
       "<IPython.core.display.Latex object>"
      ]
     },
     "metadata": {},
     "output_type": "display_data"
    },
    {
     "name": "stdout",
     "output_type": "stream",
     "text": [
      "Результат\n"
     ]
    },
    {
     "data": {
      "image/png": "[encoded data removed]",
      "text/latex": [
       "$\\displaystyle m_{N} = \\frac{K_{KCa} K_{KMg}}{K_{KCa} K_{KMg} K_{KN} + K_{KCa} K_{KMg} + K_{KCa} K_{KN} + K_{KMg} K_{KN}}$"
      ],
      "text/plain": [
       "                            K_KCa⋅K_KMg                       \n",
       "m_N = ────────────────────────────────────────────────────────\n",
       "      K_KCa⋅K_KMg⋅K_KN + K_KCa⋅K_KMg + K_KCa⋅K_KN + K_KMg⋅K_KN"
      ]
     },
     "metadata": {},
     "output_type": "display_data"
    },
    {
     "data": {
      "image/png": "[encoded data removed]",
      "text/latex": [
       "$\\displaystyle m_{K} = \\frac{K_{KCa} K_{KMg} K_{KN}}{K_{KCa} K_{KMg} K_{KN} + K_{KCa} K_{KMg} + K_{KCa} K_{KN} + K_{KMg} K_{KN}}$"
      ],
      "text/plain": [
       "                          K_KCa⋅K_KMg⋅K_KN                    \n",
       "m_K = ────────────────────────────────────────────────────────\n",
       "      K_KCa⋅K_KMg⋅K_KN + K_KCa⋅K_KMg + K_KCa⋅K_KN + K_KMg⋅K_KN"
      ]
     },
     "metadata": {},
     "output_type": "display_data"
    },
    {
     "data": {
      "image/png": "[encoded data removed]",
      "text/latex": [
       "$\\displaystyle m_{Ca} = \\frac{K_{KMg} K_{KN}}{K_{KCa} K_{KMg} K_{KN} + K_{KCa} K_{KMg} + K_{KCa} K_{KN} + K_{KMg} K_{KN}}$"
      ],
      "text/plain": [
       "                              K_KMg⋅K_KN                       \n",
       "m_Ca = ────────────────────────────────────────────────────────\n",
       "       K_KCa⋅K_KMg⋅K_KN + K_KCa⋅K_KMg + K_KCa⋅K_KN + K_KMg⋅K_KN"
      ]
     },
     "metadata": {},
     "output_type": "display_data"
    },
    {
     "data": {
      "image/png": "[encoded data removed]",
      "text/latex": [
       "$\\displaystyle m_{Mg} = \\frac{K_{KCa} K_{KN}}{K_{KCa} K_{KMg} K_{KN} + K_{KCa} K_{KMg} + K_{KCa} K_{KN} + K_{KMg} K_{KN}}$"
      ],
      "text/plain": [
       "                              K_KCa⋅K_KN                       \n",
       "m_Mg = ────────────────────────────────────────────────────────\n",
       "       K_KCa⋅K_KMg⋅K_KN + K_KCa⋅K_KMg + K_KCa⋅K_KN + K_KMg⋅K_KN"
      ]
     },
     "metadata": {},
     "output_type": "display_data"
    },
    {
     "name": "stdout",
     "output_type": "stream",
     "text": [
      "Формула Зонневельда\n"
     ]
    },
    {
     "data": {
      "image/png": "[encoded data removed]",
      "text/latex": [
       "$\\displaystyle EC = 0.19 + \\frac{0.095 m_{NH4} r}{M_{NH4}} + \\frac{0.19 m_{Mg} r}{M_{Mg}} + \\frac{0.095 m_{K} r}{M_{K}} + \\frac{0.19 m_{Ca} r}{M_{Ca}}$"
      ],
      "text/plain": [
       "            0.095⋅m_NH4⋅r   0.19⋅m_Mg⋅r   0.095⋅m_K⋅r   0.19⋅m_Ca⋅r\n",
       "EC = 0.19 + ───────────── + ─────────── + ─────────── + ───────────\n",
       "                M_NH4           M_Mg          M_K           M_Ca   "
      ]
     },
     "metadata": {},
     "output_type": "display_data"
    },
    {
     "name": "stdout",
     "output_type": "stream",
     "text": [
      "Текущий EC\n"
     ]
    },
    {
     "data": {
      "text/latex": [
       "$\\displaystyle EC = 2.102$"
      ],
      "text/plain": [
       "<IPython.core.display.Math object>"
      ]
     },
     "metadata": {},
     "output_type": "display_data"
    },
    {
     "name": "stdout",
     "output_type": "stream",
     "text": [
      "\n",
      " Вычисляем смещение для требуемого нового ЕС \n",
      "\n",
      "Вычисляем существующие коэфициенты и подставляем\n"
     ]
    },
    {
     "data": {
      "text/latex": [
       "\n",
       "\\begin{cases} \n",
       "  m_{N} = m_{NH4} + m_{NO3} \\\\ K_{NH4NO3} = \\frac{m_{NH4}}{m_{NO3}} \\\\ K_{KCa} = \\frac{m_{K}}{m_{Ca}} \\\\ K_{KMg} = \\frac{m_{K}}{m_{Mg}} \\\\ K_{KN} = \\frac{m_{K}}{m_{NH4} + m_{NO3}} \\\\\n",
       "\\end{cases}\n"
      ],
      "text/plain": [
       "<IPython.core.display.Latex object>"
      ]
     },
     "metadata": {},
     "output_type": "display_data"
    },
    {
     "data": {
      "image/png": "[encoded data removed]",
      "text/latex": [
       "$\\displaystyle \\left\\{ K_{KCa} : 0.9, \\  K_{KMg} : 3.6, \\  K_{KN} : 0.818181818181818, \\  K_{NH4NO3} : 0.1, \\  m_{N} : 220.0\\right\\}$"
      ],
      "text/plain": [
       "{K_KCa: 0.9, K_KMg: 3.6, K_KN: 0.818181818181818, K_NH4NO3: 0.1, m_N: 220.0}"
      ]
     },
     "metadata": {},
     "output_type": "display_data"
    },
    {
     "name": "stdout",
     "output_type": "stream",
     "text": [
      "Вычисляем новый npk элементов по коэфициенту r_k\n",
      "rN=0.3385 rNO3=0.3077 rNH4=0.0308 rK=0.2769 rCa=0.3077 rMg=0.0769\n",
      "Решаем уравнение с неизвестной r\n"
     ]
    },
    {
     "data": {
      "image/png": "[encoded data removed]",
      "text/latex": [
       "$\\displaystyle EC = 0.19 + \\frac{0.095 m_{NH4} r}{M_{NH4}} + \\frac{0.19 m_{Mg} r}{M_{Mg}} + \\frac{0.095 m_{K} r}{M_{K}} + \\frac{0.19 m_{Ca} r}{M_{Ca}}$"
      ],
      "text/plain": [
       "            0.095⋅m_NH4⋅r   0.19⋅m_Mg⋅r   0.095⋅m_K⋅r   0.19⋅m_Ca⋅r\n",
       "EC = 0.19 + ───────────── + ─────────── + ─────────── + ───────────\n",
       "                M_NH4           M_Mg          M_K           M_Ca   "
      ]
     },
     "metadata": {},
     "output_type": "display_data"
    },
    {
     "data": {
      "image/png": "[encoded data removed]",
      "text/latex": [
       "$\\displaystyle r = \\frac{200.0 EC M_{Ca} M_{K} M_{Mg} M_{NH4} - 38.0 M_{Ca} M_{K} M_{Mg} M_{NH4}}{19.0 M_{Ca} M_{K} M_{Mg} m_{NH4} + 38.0 M_{Ca} M_{K} M_{NH4} m_{Mg} + 19.0 M_{Ca} M_{Mg} M_{NH4} m_{K} + 38.0 M_{K} M_{Mg} M_{NH4} m_{Ca}}$"
      ],
      "text/plain": [
       "                             200.0⋅EC⋅M_Ca⋅M_K⋅M_Mg⋅M_NH4 - 38.0⋅M_Ca⋅M_K⋅M_Mg⋅M_NH4                         \n",
       "r = ─────────────────────────────────────────────────────────────────────────────────────────────────────────\n",
       "    19.0⋅M_Ca⋅M_K⋅M_Mg⋅m_NH4 + 38.0⋅M_Ca⋅M_K⋅M_NH4⋅m_Mg + 19.0⋅M_Ca⋅M_Mg⋅M_NH4⋅m_K + 38.0⋅M_K⋅M_Mg⋅M_NH4⋅m_Ca"
      ]
     },
     "metadata": {},
     "output_type": "display_data"
    },
    {
     "name": "stdout",
     "output_type": "stream",
     "text": [
      "r = 650.00\n",
      "Проверяем ЕС с вычисленными коэфициентами\n"
     ]
    },
    {
     "data": {
      "text/latex": [
       "$\\displaystyle EC = 2.102$"
      ],
      "text/plain": [
       "<IPython.core.display.Math object>"
      ]
     },
     "metadata": {},
     "output_type": "display_data"
    },
    {
     "name": "stdout",
     "output_type": "stream",
     "text": [
      "Проверяем профиль\n",
      "NO3=200.00\n",
      "NH4=20.00\n",
      "K=180.00\n",
      "Ca=200.00\n",
      "Mg=50.00\n",
      "Проверка ионного баланса\n"
     ]
    },
    {
     "data": {
      "text/latex": [
       "$\\displaystyle I = 0.000$"
      ],
      "text/plain": [
       "<IPython.core.display.Math object>"
      ]
     },
     "metadata": {},
     "output_type": "display_data"
    },
    {
     "name": "stdout",
     "output_type": "stream",
     "text": [
      "Коррекция серы для исправления ионного баланса\n",
      "S=72.44 -> 72.45\n",
      "\n",
      "\n",
      "Пересчет профиля на EC=1.5\n",
      "r = 445.34\n",
      "Проверяем новый ЕС\n",
      "EC = 1.500\n",
      "Считаем новый профиль\n",
      "NO3=137.03\n",
      "NH4=13.70\n",
      "K=123.32\n",
      "Ca=137.03\n",
      "Mg=34.26\n",
      "NH4/NO3 = 0.100000000000000\n",
      "Проверка ионного баланса\n",
      "I = -1.841\n",
      "Коррекция серы для исправления ионного баланса\n",
      "S=72.44 -> 42.93\n",
      "Проверка ионного баланса\n",
      "I = 0.000\n"
     ]
    }
   ],
   "source": [
    "elements = ['NO3', 'NH4', 'P', 'K', 'Ca', 'Mg', 'S', 'Cl']\n",
    "\n",
    "r = sym.symbols('r')\n",
    "EC, NH4NO3, KMg, KCa, KN, PN, N = sym.symbols(['EC', 'K_NH4NO3', 'K_KMg', 'K_KCa', 'K_KN', 'K_PN', 'm_N'])\n",
    "\n",
    "m = dict(zip(elements, sym.symbols([f'm_{e}' for e in elements])))\n",
    "M = dict(zip(elements, sym.symbols([f'M_{e}' for e in elements])))\n",
    "\n",
    "repl = {\n",
    "    r: 1,\n",
    "    m['NO3'] : 200,\n",
    "    m['NH4'] : 20,\n",
    "    m['P'] : 40,\n",
    "    m['K'] : 180,    \n",
    "    m['Ca'] : 200,\n",
    "    m['Mg'] : 50,\n",
    "    m['S']: 72.44,\n",
    "    m['Cl']: 0.0,\n",
    "    # Молярные массы\n",
    "    M['NO3'] : 14.0067, M['NH4'] : 14.0067, M['Ca'] : 40.078,\n",
    "    M['Mg'] : 24.305, M['K'] : 39.0983, M['P'] : 30.0983, M['S'] : 32.065, M['Cl']: 35.45,\n",
    "}\n",
    "\n",
    "# Формулы коэфициентов \n",
    "\n",
    "NH4NO3f = sym.Eq(m['NH4'] / m['NO3'], NH4NO3)\n",
    "Nf = sym.Eq(m['NH4'] + m['NO3'], N)\n",
    "\n",
    "\n",
    "Sum_k = sym.Eq(sum([N, m['K'], m['Ca'], m['Mg']]), 1)\n",
    "KCaf = sym.Eq(m['K'] / m['Ca'], KCa)\n",
    "KMgf = sym.Eq(m['K'] / m['Mg'], KMg)\n",
    "KNf = sym.Eq(m['K'] / N, KN)\n",
    "\n",
    "\n",
    "# Решаем обратную задачу перевода из коэфициентов в элементы\n",
    "\n",
    "# Решаем систему уравнений\n",
    "NH4NO3_s = sym.solve([NH4NO3f, Nf], [m['NH4'], m['NO3']])\n",
    "\n",
    "print(\"Решаем систему уравнений для NH3 и NO3\")\n",
    "display_equation([\n",
    "    Nf,\n",
    "    NH4NO3f,\n",
    "    \n",
    "])\n",
    "print(\"Результат\")\n",
    "display(sym.Eq(m['NH4'], NH4NO3_s[m['NH4']]))\n",
    "display(sym.Eq(m['NO3'], NH4NO3_s[m['NO3']]))\n",
    "\n",
    "\n",
    "Elements = [N, m['K'], m['Ca'], m['Mg']]\n",
    "NKCaMg_s = sym.solve([Sum_k, KNf, KCaf, KMgf], Elements)\n",
    "\n",
    "print(\"Решаем систему уравнений для N, K, Ca, Mg\")\n",
    "display_equation([\n",
    "    Sum_k, KNf, KCaf, KMgf\n",
    "])\n",
    "print(\"Результат\")\n",
    "for e in Elements:\n",
    "    display(sym.Eq(e, NKCaMg_s[e]))\n",
    "\n",
    "\n",
    "\n",
    "# Уравнение ионного баланса\n",
    "Cations = (\n",
    "    ((m['NH4'] * r) / M['NH4']) \n",
    "           + ((2*m['Ca']*r) / M['Ca']) \n",
    "           + ((2*m['Mg']*r) / M['Mg']) \n",
    "           + ((m['K']*r) / M['K'])\n",
    "          )\n",
    "Anions = ((m['NO3']/ M['NO3']) + (m['P'] / M['P']) + ((2*m['S'])/ M['S']) + (m['Cl']/ M['Cl']))\n",
    "\n",
    "print(\"Формула Зонневельда\")\n",
    "ECf = sym.Eq(EC, 0.095 * (Cations) + 0.19, evaluate=None)\n",
    "\n",
    "display(ECf) \n",
    "# Вычисляем текущий EC\n",
    "ECv = ECf.subs(repl).rhs\n",
    "print('Текущий EC')\n",
    "display(Math(f'EC = {ECv:0.3f}'))\n",
    "\n",
    "print(\"\\n Вычисляем смещение для требуемого нового ЕС \\n\")\n",
    "\n",
    "print(\"Вычисляем существующие коэфициенты и подставляем\")\n",
    "\n",
    "\n",
    "r_k = {\n",
    "    N: m['NO3'] + m['NH4'],\n",
    "    NH4NO3: m['NH4'] / m['NO3'],\n",
    "    KCa: m['K'] / m['Ca'],\n",
    "    KMg: m['K'] / m['Mg'],\n",
    "}\n",
    "r_k[KN] = m['K'] / r_k[N]\n",
    "\n",
    "display_equation([sym.Eq(k, v)  for k, v in r_k.items()])\n",
    "\n",
    "r_k = {k: v.subs(repl).n() for k, v in r_k.items()}\n",
    "display(r_k)\n",
    "\n",
    "print(\"Вычисляем новый npk элементов по коэфициенту r_k\")\n",
    "\n",
    "rN = NKCaMg_s[N].subs(r_k)\n",
    "rK = NKCaMg_s[m['K']].subs(r_k)\n",
    "rCa = NKCaMg_s[m['Ca']].subs(r_k)\n",
    "rMg = NKCaMg_s[m['Mg']].subs(r_k)\n",
    "\n",
    "rNH4 = NH4NO3_s[m['NH4']].subs({**r_k, N: rN})\n",
    "rNO3 = NH4NO3_s[m['NO3']].subs({**r_k, N: rN})\n",
    "\n",
    "\n",
    "print(f'rN={rN:.4f} rNO3={rNO3:.4f} rNH4={rNH4:.4f} rK={rK:.4f} rCa={rCa:.4f} rMg={rMg:.4f}')\n",
    "\n",
    "\n",
    "# Решаем уравнение\n",
    "print(\"Решаем уравнение с неизвестной r\")\n",
    "display(ECf)\n",
    "solved_r = sym.solve([ECf],(r))[r]\n",
    "\n",
    "display(sym.Eq(r, solved_r))\n",
    "\n",
    "ECnew = ECv\n",
    "r2 = {**repl, \n",
    "    EC: ECnew,\n",
    "      \n",
    "    m['NH4'] : rNH4,\n",
    "    m['NO3']: rNO3,\n",
    "    m['K'] : rK,    \n",
    "    m['Ca'] : rCa,\n",
    "    m['Mg'] : rMg,\n",
    "                  }\n",
    "\n",
    "# Вычисляем коэфициент\n",
    "r_k = solved_r.subs(r2)\n",
    "\n",
    "print(f'r = {r_k:0.2f}')\n",
    "\n",
    "\n",
    "print('Проверяем ЕС с вычисленными коэфициентами')\n",
    "EC_p = EC.subs({**r2, \n",
    "                r: r_k\n",
    "                  })\n",
    "\n",
    "display(Math(f'EC = {EC_p:0.3f}'))\n",
    "\n",
    "\n",
    "print('Проверяем профиль')\n",
    "r3 = dict(repl)\n",
    "for e in ['NO3', 'NH4', 'K', 'Ca', 'Mg']:\n",
    "    \n",
    "    mE = r2[m[e]] * r_k\n",
    "    r3[m[e]] = mE\n",
    "    print(f'{e}={mE:.2f}')\n",
    "    \n",
    "I = (Cations - Anions).subs(r3)\n",
    "print(\"Проверка ионного баланса\")\n",
    "display(Math(f\"I = {I:0.3f}\")   )\n",
    "\n",
    "print(\"Коррекция серы для исправления ионного баланса\")\n",
    "mS = solved_S.subs(r3)\n",
    "print(f'S={r3[m[\"S\"]]:0.2f} -> {mS:0.2f}')\n",
    "    \n",
    "# Фосфор - неизменен, сера пересчитывается по балансу\n",
    "\n",
    "\n",
    "\n",
    "print(\"\\n\\nПересчет профиля на EC=1.5\")\n",
    "\n",
    "r2 = {**r2, \n",
    "    EC: 1.5,\n",
    "    m['NH4'] : rNH4,\n",
    "    m['K'] : rK,    \n",
    "    m['Ca'] : rCa,\n",
    "    m['Mg'] : rMg,\n",
    "                  }\n",
    "\n",
    "# Вычисляем коэфициент\n",
    "r_k = solved_r.subs(r2)\n",
    "\n",
    "print(f'r = {r_k:0.2f}')\n",
    "\n",
    "\n",
    "print('Проверяем новый ЕС')\n",
    "EC_p = EC.subs({**r2, \n",
    "                r: r_k\n",
    "                  })\n",
    "\n",
    "print(f'EC = {EC_p:0.3f}')\n",
    "\n",
    "\n",
    "print('Считаем новый профиль')\n",
    "r3 = dict(repl)\n",
    "for e in ['NO3', 'NH4', 'K', 'Ca', 'Mg']:\n",
    "    \n",
    "    mE = r2[m[e]] * r_k\n",
    "    r3[m[e]] = mE\n",
    "    print(f'{e}={mE:.2f}')\n",
    "    \n",
    "print(f\"NH4/NO3 = {r3[m['NH4']] / r3[m['NO3']]}\")\n",
    "I = (Cations - Anions).subs(r3)\n",
    "\n",
    "print(\"Проверка ионного баланса\")\n",
    "print(f\"I = {I:0.3f}\")    \n",
    "\n",
    "mS = solved_S.subs(r3)\n",
    "print(\"Коррекция серы для исправления ионного баланса\")\n",
    "print(f'S={r3[m[\"S\"]]:0.2f} -> {mS:0.2f}')\n",
    "\n",
    "print(\"Проверка ионного баланса\")\n",
    "I = (Cations - Anions).subs({**r3, m['S']: mS})\n",
    "print(f\"I = {I:0.3f}\")\n",
    "\n"
   ]
  },
  {
   "cell_type": "code",
   "execution_count": 64,
   "metadata": {},
   "outputs": [
    {
     "name": "stdout",
     "output_type": "stream",
     "text": [
      "m_NH4 = K_NH4NO3*m_N/(K_NH4NO3 + 1)\n",
      "m_NO3 = m_N/(K_NH4NO3 + 1)\n",
      "m_Ca = K_KMg*K_KN/(K_KCa*K_KMg*K_KN + K_KCa*K_KMg + K_KCa*K_KN + K_KMg*K_KN)\n",
      "m_K = K_KCa*K_KMg*K_KN/(K_KCa*K_KMg*K_KN + K_KCa*K_KMg + K_KCa*K_KN + K_KMg*K_KN)\n",
      "m_Mg = K_KCa*K_KN/(K_KCa*K_KMg*K_KN + K_KCa*K_KMg + K_KCa*K_KN + K_KMg*K_KN)\n",
      "m_N = K_KCa*K_KMg/(K_KCa*K_KMg*K_KN + K_KCa*K_KMg + K_KCa*K_KN + K_KMg*K_KN)\n",
      "r = (200.0*EC*M_Ca*M_K*M_Mg*M_NH4 - 38.0*M_Ca*M_K*M_Mg*M_NH4)/(19.0*M_Ca*M_K*M_Mg*m_NH4 + 38.0*M_Ca*M_K*M_NH4*m_Mg + 19.0*M_Ca*M_Mg*M_NH4*m_K + 38.0*M_K*M_Mg*M_NH4*m_Ca)\n"
     ]
    }
   ],
   "source": [
    "# Печатаем уравнения для кодирования\n",
    "for e, f in NH4NO3_s.items():\n",
    "    print(f'{e} = {f}')\n",
    "for e, f in NKCaMg_s.items():\n",
    "    print(f'{e} = {f}')\n",
    "    \n",
    "print(f'r = {solved_r}')"
   ]
  },
  {
   "cell_type": "markdown",
   "metadata": {},
   "source": [
    "## Расчет навески\n",
    "\n",
    "### Решение через систему линейных уравнений\n",
    "\n"
   ]
  },
  {
   "cell_type": "code",
   "execution_count": 65,
   "metadata": {},
   "outputs": [
    {
     "name": "stdout",
     "output_type": "stream",
     "text": [
      "Решаем систему уравнений\n"
     ]
    },
    {
     "data": {
      "text/latex": [
       "\n",
       "\\begin{cases} \n",
       "  m_{NH4} = F_{NH4NO3} F_{NH4NO3 NH4} \\\\ m_{P} = F_{KH2PO4} F_{KH2PO4 P} \\\\ m_{K} = F_{K2SO4} F_{K2SO4 K} + F_{KH2PO4} F_{KH2PO4 K} + F_{KNO3} F_{KNO3 K} \\\\ m_{Ca} = F_{Ca(NO3)2} F_{Ca(NO3)2 Ca} + F_{CaCl2} F_{CaCl2 Ca} \\\\ m_{Mg} = F_{MgSO4} F_{MgSO4 Mg} \\\\ m_{S} = F_{K2SO4} F_{K2SO4 S} + F_{MgSO4} F_{MgSO4 S} \\\\ m_{Cl} = F_{CaCl2} F_{CaCl2 Cl} \\\\\n",
       "\\end{cases}\n"
      ],
      "text/plain": [
       "<IPython.core.display.Latex object>"
      ]
     },
     "metadata": {},
     "output_type": "display_data"
    },
    {
     "name": "stdout",
     "output_type": "stream",
     "text": [
      "Уравнения по каждому удобрению\n"
     ]
    },
    {
     "data": {
      "image/png": "[encoded data removed]",
      "text/latex": [
       "$\\displaystyle F_{Ca(NO3)2} = \\frac{- F_{CaCl2 Ca} m_{Cl} + F_{CaCl2 Cl} m_{Ca}}{F_{Ca(NO3)2 Ca} F_{CaCl2 Cl}}$"
      ],
      "text/plain": [
       "             -F_CaCl2_Ca⋅m_Cl + F_CaCl2_Cl⋅m_Ca\n",
       "F_Ca(NO3)2 = ──────────────────────────────────\n",
       "                  F_Ca(NO3)2_Ca⋅F_CaCl2_Cl     "
      ]
     },
     "metadata": {},
     "output_type": "display_data"
    },
    {
     "data": {
      "image/png": "[encoded data removed]",
      "text/latex": [
       "$\\displaystyle F_{KNO3} = \\frac{- F_{K2SO4 K} F_{KH2PO4 P} F_{MgSO4 Mg} m_{S} + F_{K2SO4 K} F_{KH2PO4 P} F_{MgSO4 S} m_{Mg} - F_{K2SO4 S} F_{KH2PO4 K} F_{MgSO4 Mg} m_{P} + F_{K2SO4 S} F_{KH2PO4 P} F_{MgSO4 Mg} m_{K}}{F_{K2SO4 S} F_{KH2PO4 P} F_{KNO3 K} F_{MgSO4 Mg}}$"
      ],
      "text/plain": [
       "         -F_K2SO4_K⋅F_KH2PO4_P⋅F_MgSO4_Mg⋅m_S + F_K2SO4_K⋅F_KH2PO4_P⋅F_MgSO4_S⋅m_Mg - F_K2SO4_S⋅F_KH2PO4_K⋅F_MgSO4_Mg⋅m_P + F_K2SO4_S⋅F_KH2PO4_P⋅F_MgSO4_Mg⋅m_K\n",
       "F_KNO3 = ──────────────────────────────────────────────────────────────────────────────────────────────────────────────────────────────────────────────────────\n",
       "                                                                F_K2SO4_S⋅F_KH2PO4_P⋅F_KNO3_K⋅F_MgSO4_Mg                                                       "
      ]
     },
     "metadata": {},
     "output_type": "display_data"
    },
    {
     "data": {
      "image/png": "[encoded data removed]",
      "text/latex": [
       "$\\displaystyle F_{NH4NO3} = \\frac{m_{NH4}}{F_{NH4NO3 NH4}}$"
      ],
      "text/plain": [
       "              m_NH4    \n",
       "F_NH4NO3 = ────────────\n",
       "           F_NH4NO3_NH4"
      ]
     },
     "metadata": {},
     "output_type": "display_data"
    },
    {
     "data": {
      "image/png": "[encoded data removed]",
      "text/latex": [
       "$\\displaystyle F_{MgSO4} = \\frac{m_{Mg}}{F_{MgSO4 Mg}}$"
      ],
      "text/plain": [
       "             m_Mg   \n",
       "F_MgSO4 = ──────────\n",
       "          F_MgSO4_Mg"
      ]
     },
     "metadata": {},
     "output_type": "display_data"
    },
    {
     "data": {
      "image/png": "[encoded data removed]",
      "text/latex": [
       "$\\displaystyle F_{KH2PO4} = \\frac{m_{P}}{F_{KH2PO4 P}}$"
      ],
      "text/plain": [
       "              m_P    \n",
       "F_KH2PO4 = ──────────\n",
       "           F_KH2PO4_P"
      ]
     },
     "metadata": {},
     "output_type": "display_data"
    },
    {
     "data": {
      "image/png": "[encoded data removed]",
      "text/latex": [
       "$\\displaystyle F_{K2SO4} = \\frac{F_{MgSO4 Mg} m_{S} - F_{MgSO4 S} m_{Mg}}{F_{K2SO4 S} F_{MgSO4 Mg}}$"
      ],
      "text/plain": [
       "          F_MgSO4_Mg⋅m_S - F_MgSO4_S⋅m_Mg\n",
       "F_K2SO4 = ───────────────────────────────\n",
       "                F_K2SO4_S⋅F_MgSO4_Mg     "
      ]
     },
     "metadata": {},
     "output_type": "display_data"
    },
    {
     "data": {
      "image/png": "[encoded data removed]",
      "text/latex": [
       "$\\displaystyle F_{CaCl2} = \\frac{m_{Cl}}{F_{CaCl2 Cl}}$"
      ],
      "text/plain": [
       "             m_Cl   \n",
       "F_CaCl2 = ──────────\n",
       "          F_CaCl2_Cl"
      ]
     },
     "metadata": {},
     "output_type": "display_data"
    },
    {
     "name": "stdout",
     "output_type": "stream",
     "text": [
      "Подставля процентовку удобрений получаем расчет, в г\n"
     ]
    },
    {
     "data": {
      "image/png": "[encoded data removed]",
      "text/latex": [
       "$\\displaystyle F_{Ca(NO3)2} = 11.4511$"
      ],
      "text/plain": [
       "F_Ca(NO3)2 = 11.4511"
      ]
     },
     "metadata": {},
     "output_type": "display_data"
    },
    {
     "data": {
      "image/png": "[encoded data removed]",
      "text/latex": [
       "$\\displaystyle F_{KNO3} = 3.2255$"
      ],
      "text/plain": [
       "F_KNO3 = 3.2255"
      ]
     },
     "metadata": {},
     "output_type": "display_data"
    },
    {
     "data": {
      "image/png": "[encoded data removed]",
      "text/latex": [
       "$\\displaystyle F_{NH4NO3} = 1.1429$"
      ],
      "text/plain": [
       "F_NH4NO3 = 1.1429"
      ]
     },
     "metadata": {},
     "output_type": "display_data"
    },
    {
     "data": {
      "image/png": "[encoded data removed]",
      "text/latex": [
       "$\\displaystyle F_{MgSO4} = 5.0705$"
      ],
      "text/plain": [
       "F_MgSO4 = 5.0705"
      ]
     },
     "metadata": {},
     "output_type": "display_data"
    },
    {
     "data": {
      "image/png": "[encoded data removed]",
      "text/latex": [
       "$\\displaystyle F_{KH2PO4} = 1.7574$"
      ],
      "text/plain": [
       "F_KH2PO4 = 1.7574"
      ]
     },
     "metadata": {},
     "output_type": "display_data"
    },
    {
     "data": {
      "image/png": "[encoded data removed]",
      "text/latex": [
       "$\\displaystyle F_{K2SO4} = 0.1064$"
      ],
      "text/plain": [
       "F_K2SO4 = 0.1064"
      ]
     },
     "metadata": {},
     "output_type": "display_data"
    },
    {
     "data": {
      "image/png": "[encoded data removed]",
      "text/latex": [
       "$\\displaystyle F_{CaCl2} = 0.309$"
      ],
      "text/plain": [
       "F_CaCl2 = 0.309"
      ]
     },
     "metadata": {},
     "output_type": "display_data"
    },
    {
     "name": "stdout",
     "output_type": "stream",
     "text": [
      "Проверка профиля\n",
      "NO3 = 200 - 200.53 = 0.53\n",
      "NH4 = 20 - 20.00 = 0\n",
      "P = 40 - 40.00 = 0\n",
      "K = 180 - 180.00 = 0.0\n",
      "Ca = 200 - 200.00 = 0.0\n",
      "Mg = 50 - 50.00 = 0\n",
      "S = 67.9239233594011 - 67.92 = 0\n",
      "Cl = 10 - 10.00 = 0\n"
     ]
    }
   ],
   "source": [
    "'''\n",
    "Решение через уравнение\n",
    "'''\n",
    "elements = ['NO3', 'NH4', 'P', 'K', 'Ca', 'Mg', 'S', 'Cl']\n",
    "Fertilizers = [\n",
    "    'Ca(NO3)2',\n",
    "       \n",
    "    'KNO3',\n",
    "       \n",
    "    'NH4NO3',\n",
    "        \n",
    "    'MgSO4',\n",
    "        \n",
    "    'KH2PO4',\n",
    "        \n",
    "    'K2SO4',\n",
    "        \n",
    "   # 'Mg(NO3)2',\n",
    "    \n",
    "    'CaCl2',\n",
    "    \n",
    "    \n",
    "]\n",
    "\n",
    "F = dict(zip(Fertilizers, sym.symbols([f'F_{e}' for e in Fertilizers])))\n",
    "\n",
    "m = dict(zip(elements, sym.symbols([f'm_{e}' for e in elements])))\n",
    "M = dict(zip(elements, sym.symbols([f'M_{e}' for e in elements])))\n",
    "\n",
    "\n",
    "\n",
    "F_elems = [\n",
    "    #['NO3', ['Ca(NO3)2', 'KNO3', 'NH4NO3']],\n",
    "    ['NH4', ['NH4NO3']],\n",
    "    ['P', ['KH2PO4']],\n",
    "    ['K', ['KNO3', 'KH2PO4', 'K2SO4']],\n",
    "    ['Ca', ['CaCl2', 'Ca(NO3)2']],\n",
    "    ['Mg', ['MgSO4', 'Mg(NO3)2']],\n",
    "    ['S', ['MgSO4', 'K2SO4']],\n",
    "    ['Cl', ['CaCl2']],\n",
    "    \n",
    "]\n",
    "System = []\n",
    "\n",
    "for [el, fer] in F_elems:\n",
    "    for _f in fer:\n",
    "        if _f in Fertilizers:\n",
    "            F[f'{_f}_{el}'] = sym.symbols(f'F_{_f}_{el}')\n",
    "        \n",
    "    System.append(\n",
    "        Eq(m[el],\n",
    "           sum([F[_f]*F[f'{_f}_{el}'] for _f in fer if _f in Fertilizers])\n",
    "                    ))\n",
    "    \n",
    "\n",
    "print(\"Решаем систему уравнений\")\n",
    "display_equation(System)\n",
    "\n",
    "ferts = sym.solve(System, [F[_f] for _f in Fertilizers])\n",
    "\n",
    "\n",
    "print(\"Уравнения по каждому удобрению\")\n",
    "for _f in Fertilizers:\n",
    "    if _f in Fertilizers:\n",
    "        display(\n",
    "            Eq(F[_f], ferts[F[_f]])\n",
    "        )\n",
    "    \n",
    "    \n",
    "\n",
    "repl = {\n",
    "    #NPK\n",
    "    m['NO3'] : 200,\n",
    "    m['NH4'] : 20,\n",
    "    m['P'] : 40,\n",
    "    m['K'] : 180,    \n",
    "    m['Ca'] : 200,\n",
    "    m['Mg'] : 50,\n",
    "    m['S']: 68.52,\n",
    "    m['Cl']: 10,\n",
    "    # Молярные массы\n",
    "    M['NO3'] : 14.0067, M['NH4'] : 14.0067, M['Ca'] : 40.078,\n",
    "    M['Mg'] : 24.305, M['K'] : 39.0983, M['P'] : 30.0983, M['S'] : 32.065, M['Cl']: 35.45,\n",
    "}\n",
    "repl[m['S']] = solved_S.subs(repl)\n",
    "ferts_perc ={\n",
    "    # Процентовки\n",
    "    'Ca(NO3)2_Ca':16.972,\n",
    "    'Ca(NO3)2_NO3':11.863,\n",
    "       \n",
    "    'KNO3_K':38.672,\n",
    "    'KNO3_NO3':13.854,\n",
    "       \n",
    "    'NH4NO3_NO3':17.499,\n",
    "    'NH4NO3_NH4':17.499,\n",
    "        \n",
    "    'MgSO4_Mg':9.861,\n",
    "    'MgSO4_S':13.010,\n",
    "        \n",
    "    'KH2PO4_K':28.731,\n",
    "    'KH2PO4_P':22.761,\n",
    "        \n",
    "    'K2SO4_K':44.874,\n",
    "    'K2SO4_S':18.401,\n",
    "        \n",
    "    'Mg(NO3)2_Mg': 9.479,\n",
    "    'Mg(NO3)2_NO3': 10.925,\n",
    "\n",
    "    'CaCl2_Ca':18.294,\n",
    "    'CaCl2_Cl':32.366,\n",
    "}\n",
    "\n",
    "for [k, v] in ferts_perc.items():\n",
    "    if k in F:\n",
    "        repl[F[k]] = v\n",
    "\n",
    "\n",
    "print(\"Подставля процентовку удобрений получаем расчет, в г\")\n",
    "weights = {}\n",
    "for _f in Fertilizers:\n",
    "    w = ferts[F[_f]].subs(repl)\n",
    "    display(Eq(F[_f], round(w,4)))\n",
    "    weights[_f] = w\n",
    "\n",
    "\n",
    "print(\"Проверка профиля\")\n",
    "\n",
    "for _e in elements:\n",
    "    Ep = repl[m[_e]]\n",
    "    Ef = 0\n",
    "    for _f in Fertilizers:\n",
    "        k = f'{_f}_{_e}'\n",
    "        if k in ferts_perc and _f in weights:\n",
    "            Ef += weights[_f] * (ferts_perc[k])\n",
    "    \n",
    "    print(f'{_e} = {Ep} - {Ef:0.2f} = {round(Ef - Ep,2)}')\n",
    "    \n",
    "\n",
    "\n",
    "\n"
   ]
  },
  {
   "cell_type": "markdown",
   "metadata": {},
   "source": [
    "### Алгоритмическое решение методом перебора\n",
    "\n",
    "В калькуляторе используется этот метод получения навески, т.к. у нас есть неизвестное количество удобрений и они могут быть комплексными.\n",
    "\n",
    "Весь алгоритм заключается в том что по каждому удобрению в цикле мы получаем минимально возможную навеску и эта навеска вычитается из NPK до тех пор пока NPK не станет близок к нулю или нет возможности получить навеску по оставшемуся NPK"
   ]
  },
  {
   "cell_type": "code",
   "execution_count": 66,
   "metadata": {
    "scrolled": true
   },
   "outputs": [
    {
     "name": "stdout",
     "output_type": "stream",
     "text": [
      "Полученная навеска\n",
      "CaCl2 = 0.309г.\n",
      "NH4NO3 = 1.1429г.\n",
      "KH2PO4 = 1.7574г.\n",
      "MgSO4 = 5.6789г.\n",
      "K2SO4 = -0.3241г.\n",
      "KNO3 = 3.7249г.\n",
      "Ca(NO3)2 = 11.4511г.\n",
      "Проверка профиля, разница между ожидаемым профилем и фактическим \n",
      "NO3 = 200.00 - 207.45 = -7.45\n",
      "NH4 = 20.00 - 20.00 = 0.0\n",
      "P = 40.00 - 40.00 = 0.0\n",
      "K = 180.00 - 180.00 = 0.0\n",
      "Ca = 200.00 - 200.00 = 0.0\n",
      "Mg = 56.00 - 56.00 = 0.0\n",
      "S = 67.92 - 67.92 = 0.0\n",
      "Cl = 10.00 - 10.00 = 0.0\n"
     ]
    }
   ],
   "source": [
    "\"\"\"\n",
    "Алгоритмическое решение\n",
    "\"\"\"\n",
    "\n",
    "\n",
    "elements = ['NO3', 'NH4', 'P', 'K', 'Ca', 'Mg', 'S', 'Cl']\n",
    "Fertilizers = [\n",
    "    'K2SO4',\n",
    "    'Ca(NO3)2',   \n",
    "    'KNO3',     \n",
    "    'NH4NO3',\n",
    "    \n",
    "    \n",
    "        \n",
    "    'MgSO4',\n",
    "       \n",
    "    'KH2PO4',\n",
    "        \n",
    "    \n",
    "        \n",
    "    #'Mg(NO3)2',\n",
    "    'CaCl2',\n",
    "    \n",
    "    \n",
    "]\n",
    "\n",
    "F_elems = dict([\n",
    "    ['NO3', ['Ca(NO3)2', 'KNO3', 'NH4NO3', 'Mg(NO3)2']],\n",
    "    ['NH4', ['NH4NO3']],\n",
    "    ['P', ['KH2PO4']],\n",
    "    ['K', ['KNO3', 'KH2PO4', 'K2SO4']],\n",
    "    ['Ca', ['CaCl2', 'Ca(NO3)2']],\n",
    "    ['Mg', ['MgSO4', 'Mg(NO3)2']],\n",
    "    ['S', ['MgSO4', 'K2SO4']],\n",
    "    ['Cl', ['CaCl2']],    \n",
    "]    )\n",
    "npk = {\n",
    "    'NO3' : 200,\n",
    "    'NH4' : 20,\n",
    "    'P' : 40,\n",
    "    'K' : 180,    \n",
    "    'Ca' : 200,\n",
    "    'Mg' : 56,\n",
    "    'Cl': 10,  \n",
    "    'S': 67.92,\n",
    "}\n",
    "# Хардкод нпк удобрений\n",
    "ferts_perc ={\n",
    "    # Процентовки\n",
    "    'Ca(NO3)2_Ca':16.972,\n",
    "    'Ca(NO3)2_NO3':11.863,\n",
    "       \n",
    "    'KNO3_K':38.672,\n",
    "    'KNO3_NO3':13.854,\n",
    "       \n",
    "    'NH4NO3_NO3':17.499,\n",
    "    'NH4NO3_NH4':17.499,\n",
    "        \n",
    "    'MgSO4_Mg':9.861,\n",
    "    'MgSO4_S':13.010,\n",
    "        \n",
    "    'KH2PO4_K':28.731,\n",
    "    'KH2PO4_P':22.761,\n",
    "        \n",
    "    'K2SO4_K':44.874,\n",
    "    'K2SO4_S':18.401,\n",
    "        \n",
    "    'Mg(NO3)2_Mg': 9.479,\n",
    "    'Mg(NO3)2_NO3': 10.925,\n",
    "\n",
    "    'CaCl2_Ca':18.294,\n",
    "    'CaCl2_Cl':32.366,\n",
    "}\n",
    "for (k, v) in list(ferts_perc.items()):\n",
    "    f, el = k.split('_')\n",
    "    if f not in ferts_perc:\n",
    "        ferts_perc[f] = {}\n",
    "    ferts_perc[f][el] = v\n",
    "    \n",
    "#print(ferts_perc)\n",
    "  \n",
    "    \n",
    "\n",
    "dNPK = dict(sorted(npk.items(), key=lambda i: i[1]))\n",
    "\n",
    "#print(dNPK)\n",
    "\n",
    "print(\"Полученная навеска\")\n",
    "\n",
    "weights = {}\n",
    "\n",
    "# Сообственно тут идет расчет перебором\n",
    "for el in dNPK:\n",
    "    for _f in Fertilizers:\n",
    "        \n",
    "        if _f not in F_elems[el]:\n",
    "            continue\n",
    "        if el == 'NO3':\n",
    "            continue\n",
    "        if _f in weights or _f not in Fertilizers:\n",
    "            continue\n",
    "        perc = dict(ferts_perc[_f])\n",
    "        w = dNPK[el] / perc.pop(el)\n",
    "        \n",
    "        print(f'{_f} = {round(w,4)}г.')\n",
    "        for _el, _p in perc.items():\n",
    "            # вычитается навеска из NPK\n",
    "            dNPK[_el] -= w * _p\n",
    "        weights[_f] = w\n",
    "\n",
    "        \n",
    "\n",
    "\n",
    "print(\"Проверка профиля, разница между ожидаемым профилем и фактическим \")\n",
    "\n",
    "for _e in elements:\n",
    "    Ep = npk[_e]\n",
    "    Ef = 0\n",
    "    for _f in Fertilizers:\n",
    "        k = f'{_f}_{_e}'\n",
    "        if k in ferts_perc and _f in weights:\n",
    "            Ef += weights[_f] * (ferts_perc[k])\n",
    "    \n",
    "    print(f'{_e} = {Ep:0.2f} - {Ef:0.2f} = {round(Ep - Ef,2)}')\n",
    "    \n",
    "\n",
    "# На данный момент оно собирает неточно\n"
   ]
  },
  {
   "cell_type": "code",
   "execution_count": 81,
   "metadata": {
    "scrolled": true
   },
   "outputs": [
    {
     "name": "stdout",
     "output_type": "stream",
     "text": [
      "[[0, 11.863, 13.854, 17.499, 0, 0, 0], [0, 0, 0, 17.499, 0, 0, 0], [0, 0, 0, 0, 0, 22.761, 0], [44.874, 0, 38.672, 0, 0, 28.731, 0], [0, 16.972, 0, 0, 0, 0, 18.294], [0, 0, 0, 0, 9.861, 0, 0], [18.401, 0, 0, 0, 13.01, 0, 0], [0, 0, 0, 0, 0, 0, 32.366]]\n",
      "[[200], [20], [40], [180], [200], [56], [67.92], [10]]\n",
      "7 8\n",
      "15.236063909134588\n",
      "K2SO4 = -0.06\n",
      "Ca(NO3)2 = 11.06\n",
      "KNO3 = 3.52\n",
      "NH4NO3 = 0.27\n",
      "MgSO4 = 4.13\n",
      "KH2PO4 = 1.09\n",
      "CaCl2 = -0.16\n",
      "Проверка профиля\n",
      "NO3 = 200.00 - 184.76 = 15.24\n",
      "NH4 = 20.00 - 4.76 = 15.24\n",
      "P = 40.00 - 24.76 = 15.24\n",
      "K = 180.00 - 164.76 = 15.24\n",
      "Ca = 200.00 - 184.76 = 15.24\n",
      "Mg = 56.00 - 40.76 = 15.24\n",
      "S = 67.92 - 52.68 = 15.24\n",
      "Cl = 10.00 - -5.24 = 15.24\n"
     ]
    }
   ],
   "source": [
    "\"\"\"\n",
    "Попытка решения системами линейных уравнений\n",
    "\"\"\"\n",
    "# Пока не работает\n",
    "elements = ['NO3', 'NH4', 'P', 'K', 'Ca', 'Mg', 'S', 'Cl']\n",
    "Fertilizers = [\n",
    "    'K2SO4',\n",
    "    'Ca(NO3)2',   \n",
    "    'KNO3',     \n",
    "    'NH4NO3',\n",
    "         \n",
    "    'MgSO4',      \n",
    "    'KH2PO4',\n",
    "    \n",
    "    #'Mg(NO3)2',\n",
    "    'CaCl2',\n",
    "    \n",
    "]\n",
    "\n",
    "F_elems = dict([\n",
    "    ['NO3', ['Ca(NO3)2', 'KNO3', 'NH4NO3', 'Mg(NO3)2']],\n",
    "    ['NH4', ['NH4NO3']],\n",
    "    ['P', ['KH2PO4']],\n",
    "    ['K', ['KNO3', 'KH2PO4', 'K2SO4']],\n",
    "    ['Ca', ['CaCl2', 'Ca(NO3)2']],\n",
    "    ['Mg', ['MgSO4', 'Mg(NO3)2']],\n",
    "    ['S', ['MgSO4', 'K2SO4']],\n",
    "    ['Cl', ['CaCl2']],    \n",
    "]    )\n",
    "npk = {\n",
    "    'NO3' : 200,\n",
    "    'NH4' : 20,\n",
    "    'P' : 40,\n",
    "    'K' : 180,    \n",
    "    'Ca' : 200,\n",
    "    'Mg' : 56,\n",
    "    'Cl': 10,  \n",
    "    'S': 67.92,\n",
    "}\n",
    "\n",
    "ferts_perc ={\n",
    "    # Процентовки\n",
    "    'Ca(NO3)2_Ca':16.972,\n",
    "    'Ca(NO3)2_NO3':11.863,\n",
    "       \n",
    "    'KNO3_K':38.672,\n",
    "    'KNO3_NO3':13.854,\n",
    "       \n",
    "    'NH4NO3_NO3':17.499,\n",
    "    'NH4NO3_NH4':17.499,\n",
    "        \n",
    "    'MgSO4_Mg':9.861,\n",
    "    'MgSO4_S':13.010,\n",
    "        \n",
    "    'KH2PO4_K':28.731,\n",
    "    'KH2PO4_P':22.761,\n",
    "        \n",
    "    'K2SO4_K':44.874,\n",
    "    'K2SO4_S':18.401,\n",
    "        \n",
    "    'Mg(NO3)2_Mg': 9.479,\n",
    "    'Mg(NO3)2_NO3': 10.925,\n",
    "\n",
    "    'CaCl2_Ca':18.294,\n",
    "    'CaCl2_Cl':32.366,\n",
    "}\n",
    "\n",
    "for (k, v) in list(ferts_perc.items()):\n",
    "    f, el = k.split('_')\n",
    "    if f not in ferts_perc:\n",
    "        ferts_perc[f] = {}\n",
    "    ferts_perc[f][el] = v\n",
    "\n",
    "# Решение\n",
    "\n",
    "A = []\n",
    "\n",
    "for el, ferts in F_elems.items():\n",
    "    r = []\n",
    "    for f in Fertilizers:\n",
    "        if f not in ferts:\n",
    "            r.append(0)\n",
    "        else:\n",
    "            r.append(ferts_perc[f][el])\n",
    "    A.append(r)       \n",
    "\n",
    "B = [[npk[el]] for el in F_elems]\n",
    "\n",
    "print(A)\n",
    "print(B)\n",
    "\n",
    "print(len(A[0]), len(B))\n",
    "\n",
    "A_len = len(A[0])\n",
    "B_len = len(B)\n",
    "\n",
    "if A_len < B_len:\n",
    "    for i in range(B_len - A_len):\n",
    "        for r in A:\n",
    "            r.append(1)        \n",
    "\n",
    "r = [i[0] for i in numpy.linalg.solve(A,B)]\n",
    "\n",
    "print(r[-1])\n",
    "weights = dict(zip(Fertilizers, r))\n",
    "\n",
    "for f, w in weights.items():\n",
    "    print(f'{f} = {w:.2f}')\n",
    "# Проверка\n",
    "\n",
    "print(\"Проверка профиля\")\n",
    "\n",
    "for _e in elements:\n",
    "    Ep = npk[_e]\n",
    "    Ef = 0\n",
    "    for _f in Fertilizers:\n",
    "        k = f'{_f}_{_e}'\n",
    "        if k in ferts_perc and _f in weights:\n",
    "            Ef += weights[_f] * (ferts_perc[k])\n",
    "    \n",
    "    print(f'{_e} = {Ep:0.2f} - {Ef:0.2f} = {round(Ep - Ef,2)}')\n",
    "  \n"
   ]
  }
 ],
 "metadata": {
  "kernelspec": {
   "display_name": "Python 3 (ipykernel)",
   "language": "python",
   "name": "python3"
  },
  "language_info": {
   "codemirror_mode": {
    "name": "ipython",
    "version": 3
   },
   "file_extension": ".py",
   "mimetype": "text/x-python",
   "name": "python",
   "nbconvert_exporter": "python",
   "pygments_lexer": "ipython3",
   "version": "3.12.3"
  }
 },
 "nbformat": 4,
 "nbformat_minor": 1
}
