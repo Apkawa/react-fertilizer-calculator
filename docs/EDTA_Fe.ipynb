{
 "cells": [
  {
   "cell_type": "markdown",
   "id": "electoral-paintball",
   "metadata": {},
   "source": [
    "# Приготовление EDTA Fe\n",
    "\n",
    "\n",
    "## Подготовка\n",
    "\n",
    "Для приготовления микро нам нужны следующие компоненты\n",
    "\n",
    "1. Хелаторы, один из них:\n",
    "   - Трилон Б\n",
    "      * C10H14N2Na2O8*2H2O (Na2 - `ди`натриевая соль), ЭДТУК, EDTA\n",
    "        \n",
    "        Лучше использовать её.\n",
    "        \n",
    "      * C10H12N2O8Na4*4H2O (Na4 - `тетра`натриевая соль), ЭДТУК, EDTA    \n",
    "2. KOH \n",
    "\n",
    "3. Fe - Сульфат железа (II) семиводный `FeSO4*7H2O` (Fe 20,1%)\n",
    "\n",
    "4. Основное микро\n",
    "   * Mn - Марганец (II) сернокислый 5-водный, `MnSO4*5H2O` (Mn 21.95%)\n",
    "   * B - Борная кислота `H3BO3`, (B 17,5%)\n",
    "   * Zn - Цинк сернокислый 7-водный `ZnSO4*7H2O`, (Zn 22,7%)\n",
    "   * Cu - Медь (II) сернокислая 5-водная `CuSO4*5H2O`, (Cu 25,5%)\n",
    "   * Mo - Аммоний молибденовокислый 4х-водный `(NH4)6Mo7O24*4H2O`, (Mo 54,3%)\n",
    "    \n",
    "5. Опционально, обычно не требуется\n",
    "   * Co - Сульфат кобальта семиводный `CoSO4*7H2O` (Co 21%)\n",
    "   * Si - Кремнекислый натрий пятиводный `Na2SiO3*5H2O` (Si 13,2%)\n",
    "\n",
    "6. Стакан термостойкий на 250-400мл. Не колба, т.к. нужно измерять pH\n",
    "7. Мешалка или стеклянная палочка\n",
    "\n",
    "## Расчет\n",
    "\n",
    "Сначала определяемся с профилем микро.\n",
    "\n",
    "Допустим у наc профиль, в микрограммах:\n",
    "\n",
    "`Fe=4500; Mn=600; B=600; Zn=400; Cu=100; Mo=100`\n",
    "\n",
    "Хотим приготовить концентрат микро 1:1000 на 2 литра\n",
    "\n",
    "На 1 моль железа приходится 1 моль Трилона-Б\n",
    "\n",
    "Находим молярную массу Трилона Б: - `372.2369`\n",
    "\n",
    "* [Можно воспользоваться этим калькулятором](https://apkawa.github.io/react-fertilizer-calculator/#/formula/C10H14N2Na2O8*2H2O/)\n",
    "* [Или этим](https://ru.webqc.org/molecular-weight-of-C10H14N2Na2O8%2A2H2O.html)\n",
    "\n",
    "\n",
    "Находим молярную массу сульфата железа: - `278.0146`\n",
    "\n",
    "Делим моли трилона на моли железа, получаем коэфициент:\n",
    "\n",
    "```\n",
    "372.2369 / 278.0146 = 1.3389\n",
    "```\n",
    "\n",
    "Далее нужно вычислить навеску железа\n",
    "\n",
    "Есть 2 пути.\n",
    "\n",
    "1) Рассчитать самому\n",
    "   \n",
    "   * Вычисляем массовую долю железа в сульфате железа, с учетом паспорта (ЧДА 100,6%):\n",
    "   ``` \n",
    "   Fe% = (М(Fe) / M(FeSO4*7H2O) ) * (чистота / 100) \n",
    "   Fe% = (55.8452 / 278.0146) * (100.6 / 100) = 0.2021\n",
    "   ```\n",
    "   M(Fe) и M(FeSO4*7H2O) - молярные массы\n",
    "   \n",
    "   * Вычисляем необходимое количество сульфата железа в г/л\n",
    "   ```\n",
    "   m = ((Профиль / Fe% ) / мкг в г) * V * C\n",
    "   m = ((4500 / 0.2021) / 10^6) * 2 * 1000 = 44.5г\n",
    "   ```\n",
    "   V - объем \n",
    "   C - концентрация\n",
    "   \n",
    "\n",
    "2) Воспользоваться калькулятором\n",
    "   * Забиваем формулу сульфата железа с учетом паспорта в удобрения\n",
    "   * Выбираем в калькуляторе сульфат железа, профиль, желаемый объем и концентрацию\n",
    "   * Calculate\n",
    "   \n",
    "Получаем `44.5г` сульфата железа.\n",
    "Аналогично поступаем с остальными элементами:\n",
    "   * `5.47г` - Марганец (II) сернокислый 5-водный\n",
    "   * `0.79г` - Медь сернокислая (II) 5-водная\n",
    "   * `3.58г` - Цинк сернокислый\n",
    "   * `6.87г` - Борная кислота\n",
    "   * `0.37г` - Аммоний молибденовокислый 4-водный\n",
    "\n",
    "\n",
    "Необходимое количество Трилона Б, с учетом паспорта (ЧДА 99,6%)\n",
    "```\n",
    "(44.5 * 1.3389) * ((100 + (100 - 99.6)) / 100) =  59.82г \n",
    "```\n",
    "\n",
    "Необходимое количество KOH, с учетом паспорта (ЧДА 90%)\n",
    "\n",
    "[2 KOH + FeSO4 → K2SO4 + Fe(OH)2](https://chemequations.com/ru/?s=KOH%20%2B%20FeSO4%20%3D%20K2SO4%20%2B%20Fe(OH)2&ref=search)\n",
    "\n",
    "```\n",
    "56.10564 * 2 / 278.0146 = 0.403\n",
    "(44.5 * 0.403) * ((100 + (100 - 90)) / 100)  = 19.72г\n",
    "```\n",
    "\n",
    "Массу остальных солей не учитываем, т.к. нет необходимости хелатировать остальные соли. \n",
    "Хелатирование солей нужно в случае аквариумистики, чтобы рыбам было хорошо.\n"
   ]
  },
  {
   "cell_type": "code",
   "execution_count": 1,
   "id": "anonymous-tenant",
   "metadata": {},
   "outputs": [
    {
     "name": "stdout",
     "output_type": "stream",
     "text": [
      "Requirement already satisfied: sympy in /home/apkawa/.local/lib/python3.9/site-packages (1.7.1)\r\n",
      "Requirement already satisfied: mpmath>=0.19 in /home/apkawa/.local/lib/python3.9/site-packages (from sympy) (1.1.0)\r\n"
     ]
    }
   ],
   "source": [
    "# Install a pip package in the current Jupyter kernel\n",
    "import sys\n",
    "!{sys.executable} -m pip install sympy\n",
    "\n",
    "import sympy as sym\n",
    "from sympy import Eq\n",
    "sym.init_printing()\n",
    "from IPython.display import Math, display\n",
    "import ipywidgets as widgets"
   ]
  },
  {
   "cell_type": "code",
   "execution_count": 2,
   "id": "electrical-asbestos",
   "metadata": {},
   "outputs": [
    {
     "data": {
      "application/vnd.jupyter.widget-view+json": {
       "model_id": "3d9bf1d0913346e0828580798a9181b2",
       "version_major": 2,
       "version_minor": 0
      },
      "text/plain": [
       "BoundedIntText(value=4500, description='Fe профиль, в мкг/л', max=10000, min=1, step=0)"
      ]
     },
     "metadata": {},
     "output_type": "display_data"
    },
    {
     "data": {
      "application/vnd.jupyter.widget-view+json": {
       "model_id": "1d03b0ee75844059a5a6e8921b43c92f",
       "version_major": 2,
       "version_minor": 0
      },
      "text/plain": [
       "BoundedFloatText(value=2.0, description='Объем, в л', min=1.0, step=0.01)"
      ]
     },
     "metadata": {},
     "output_type": "display_data"
    },
    {
     "data": {
      "application/vnd.jupyter.widget-view+json": {
       "model_id": "21d44f4db331439ea4aee0e4a5019dda",
       "version_major": 2,
       "version_minor": 0
      },
      "text/plain": [
       "BoundedIntText(value=1000, description='Концентрация, разы', max=5000, min=1)"
      ]
     },
     "metadata": {},
     "output_type": "display_data"
    },
    {
     "data": {
      "application/vnd.jupyter.widget-view+json": {
       "model_id": "b309fd2eb87048759bcc53de55931a21",
       "version_major": 2,
       "version_minor": 0
      },
      "text/plain": [
       "BoundedFloatText(value=100.6, description='Чистота FeSO4', max=200.0, min=1.0, step=0.01)"
      ]
     },
     "metadata": {},
     "output_type": "display_data"
    },
    {
     "data": {
      "application/vnd.jupyter.widget-view+json": {
       "model_id": "58ef4d531043480fb8081468c86d2546",
       "version_major": 2,
       "version_minor": 0
      },
      "text/plain": [
       "BoundedFloatText(value=99.6, description='Чистота Трилона Б', max=200.0, min=1.0, step=0.01)"
      ]
     },
     "metadata": {},
     "output_type": "display_data"
    },
    {
     "data": {
      "application/vnd.jupyter.widget-view+json": {
       "model_id": "a796a045960c4fe39892a04dac6a606d",
       "version_major": 2,
       "version_minor": 0
      },
      "text/plain": [
       "BoundedFloatText(value=90.0, description='Чистота KOH', max=200.0, min=1.0, step=0.01)"
      ]
     },
     "metadata": {},
     "output_type": "display_data"
    },
    {
     "data": {
      "application/vnd.jupyter.widget-view+json": {
       "model_id": "81bb01313f584ed88512b406e8812b01",
       "version_major": 2,
       "version_minor": 0
      },
      "text/plain": [
       "Output(layout=Layout(border='1px solid black'))"
      ]
     },
     "metadata": {},
     "output_type": "display_data"
    }
   ],
   "source": [
    "Fe_profile = widgets.BoundedIntText(\n",
    "    value=4500,\n",
    "    min=1,\n",
    "    max=10000,\n",
    "    step=0.1,\n",
    "    description='Fe профиль, в мкг/л',\n",
    "    disabled=False\n",
    ")\n",
    "Volume = widgets.BoundedFloatText(\n",
    "    value=2,\n",
    "    min=1,\n",
    "    max=100,\n",
    "    step=0.01,\n",
    "    description='Объем, в л',\n",
    "    disabled=False\n",
    ")\n",
    "Concentration = widgets.BoundedIntText(\n",
    "    value=1000,\n",
    "    min=1,\n",
    "    max=5000,\n",
    "    step=1,\n",
    "    description='Концентрация, разы',\n",
    "    disabled=False\n",
    ")\n",
    "Fe_clean = widgets.BoundedFloatText(\n",
    "    value=100.6,\n",
    "    min=1,\n",
    "    max=200,\n",
    "    step=0.01,\n",
    "    description='Чистота FeSO4',\n",
    "    disabled=False\n",
    ")\n",
    "ChelateB_clean = widgets.BoundedFloatText(\n",
    "    value=99.6,\n",
    "    min=1,\n",
    "    max=200,\n",
    "    step=0.01,\n",
    "    description='Чистота Трилона Б',\n",
    "    disabled=False\n",
    ")\n",
    "KOH_clean = widgets.BoundedFloatText(\n",
    "    value=90,\n",
    "    min=1,\n",
    "    max=200,\n",
    "    step=0.01,\n",
    "    description='Чистота KOH',\n",
    "    disabled=False\n",
    ")\n",
    "\n",
    "out = widgets.Output(layout={'border': '1px solid black'})\n",
    "out\n",
    "\n",
    "\n",
    "\n",
    "M_ChelateB = 372.2369\n",
    "M_Fe = 55.8452\n",
    "M_FeSO4_7H2O = 278.0146\n",
    "M_KOH = 56.10564\n",
    "\n",
    "\n",
    "\n",
    "# Функция расчета\n",
    "def calculate(*args):\n",
    "    Fe_p = (M_Fe / M_FeSO4_7H2O) * (Fe_clean.value / 100)\n",
    "    m_FeSO4 = ((Fe_profile.value / Fe_p) / 10**6) * Volume.value * Concentration.value\n",
    "    m_ChelateB = (m_FeSO4 * (M_ChelateB / M_FeSO4_7H2O)) * ((100 + (100 - ChelateB_clean.value)) / 100)\n",
    "    m_KOH = (m_FeSO4 * ((M_KOH * 2) / M_FeSO4_7H2O)) * ((100 + (100 - KOH_clean.value)) / 100)\n",
    "    out.clear_output()\n",
    "    with out:\n",
    "        print(f'Навеска FeSO4 = {m_FeSO4:0.3f}г')\n",
    "        print(f'Навеска ТрилонаБ = {m_ChelateB:0.3f}г')\n",
    "        print(f'Навеска KOH = {m_KOH:.3f}г')\n",
    "    \n",
    "calculate()\n",
    "\n",
    "Inputs = [Fe_profile, Volume, Concentration, Fe_clean, ChelateB_clean, KOH_clean]\n",
    "for i in Inputs:\n",
    "    i.observe(calculate, names='value')\n",
    "\n",
    "display(*(Inputs + [out]))\n"
   ]
  },
  {
   "cell_type": "markdown",
   "id": "fourth-marshall",
   "metadata": {},
   "source": [
    "## Изготовление\n",
    "\n",
    "### Способ Сергея\n",
    "\n",
    "1. Налить в стакан `100мл` кипятка\n",
    "2. Добавить рассчитанную выше навеску сульфата железа - `44.5г`\n",
    "3. Тщательно перемешивать. Цвет бурый \n",
    "   \n",
    "   ![](./files/chelates/EDTA_make_1.jpg)\n",
    "   \n",
    "4. В зависимости от вида трилона, ди или тетра\n",
    "   * Динатриевая соль \n",
    "     \n",
    "      Добавлять KOH до тех пор пока не станет pH=7\n",
    "     \n",
    "      Цвет становится черным, как кока-кола \n",
    "     \n",
    "      ![](./files/chelates/EDTA_make_2.jpg)\n",
    "      \n",
    "   * Тетранатриевая соль \n",
    "     \n",
    "      Ничего не делать, раствор дб кислым. (TODO уточнить)\n",
    "     \n",
    "5. Высыпать трилон, перемешивая. Не всю навеску сразу, а понемногу. \n",
    "   \n",
    "   Раствор начнет светлеть но еще будет мутным. \n",
    "   \n",
    "   Как только он станет прозрачным - все прореагировало. \n",
    "   \n",
    "   Раствор может еще покраснеть через некоторое время\n",
    "   \n",
    "   ![](./files/chelates/EDTA_make_3.jpg)\n",
    "\n",
    "6. Добавить оставшееся микро\n",
    "7. Разбавить, в нашем случае до 2л\n",
    "\n",
    "### Способ Вильяма\n",
    "\n",
    "1. Налить в стакан `100мл` кипятка\n",
    "2. Добавить рассчитанную выше навеску сульфата железа - `44.5г`\n",
    "3. Тщательно перемешивать. Цвет бурый \n",
    "   \n",
    "   ![](./files/chelates/files/EDTA_make_1.jpg)\n",
    "   \n",
    "4. Высыпать трилон, перемешивая. Всю рассчитанную навеску.\n",
    "   (TODO картиночки)\n",
    "   \n",
    "5. В зависимости от вида трилона, ди или тетра\n",
    "   \n",
    "   * Динатриевая соль \n",
    "     \n",
    "     Добавлять понемногу KOH \n",
    "     \n",
    "     И когда допустим только посветлел, я немного мути оставляю, оно само доходит \n",
    "     \n",
    "     после молочного цвета\n",
    "     \n",
    "\n",
    "   * Тетранатриевая соль \n",
    "     \n",
    "     Ничего не делать, раствор дб кислым. (TODO уточнить)\n",
    "\n",
    "\n",
    "6. Добавить оставшееся микро\n",
    "7. Разбавить, в нашем случае до 2л\n",
    "\n",
    "## Способ `Alex Simonec` (технолога по удобрениям)\n",
    "\n",
    "1. Готовим 0,1 молярный раствор  ЕДТА железа, с концентрацией Fe = 5,55 гр/л .\n",
    "2. Делаем навески: \n",
    "   \n",
    "   * 1 л обычной воды. \n",
    "   * 90 грамм дистиллированной воды, \n",
    "   * расчетное количество Сульфата Железа\n",
    "   * расчетное количество Трилона Б \n",
    "   * расчетное количество KOH\n",
    "     \n",
    "2. Берется 2 л бутылка и наливается в нее 1 л обычной воды.  \n",
    "   \n",
    "   Добавить сульфат железа, закрыть крышкой и расколачивать до полного растворения.\n",
    "   \n",
    "   Открыть крышку и засыпать KOH.\n",
    "   \n",
    "   Закрыть крышку и перемешиваешь до полного растворения. \n",
    "   \n",
    "3. начнется реакция: вода становиться прозрачной, выпадает темный осадок.\n",
    "4. Поставить на 12-24 часов отстояться.\n",
    "5. После отстоя максимально слить воду, оставляя только осадок.\n",
    "6. После к осадку долить 90 грамм дистиллированной воды и добавить Трилон Б, размешать, раствор зеленеет. \n",
    "7. рН должен быть в диапазоне 4-6, если не доходить - догони до 5 щелочью, порциями по 0,05 грамм.\n",
    "   \n",
    "8. Добавить оставшееся микро\n",
    "9. Разбавить, в нашем случае до 2л"
   ]
  }
 ],
 "metadata": {
  "kernelspec": {
   "display_name": "Python 3",
   "language": "python",
   "name": "python3"
  },
  "language_info": {
   "codemirror_mode": {
    "name": "ipython",
    "version": 3
   },
   "file_extension": ".py",
   "mimetype": "text/x-python",
   "name": "python",
   "nbconvert_exporter": "python",
   "pygments_lexer": "ipython3",
   "version": "3.9.1"
  }
 },
 "nbformat": 4,
 "nbformat_minor": 5
}
