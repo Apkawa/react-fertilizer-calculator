{
 "cells": [
  {
   "cell_type": "markdown",
   "id": "electoral-paintball",
   "metadata": {},
   "source": [
    "# Приготовление EDTA Fe\n",
    "\n",
    "\n",
    "## Подготовка\n",
    "\n",
    "Для приготовления микро нам нужны следующие компоненты\n",
    "\n",
    "1. Хелаторы, один из них:\n",
    "   - Трилон Б\n",
    "      * C10H14N2Na2O8*2H2O (Na2 - `ди`натриевая соль), ЭДТУК, EDTA\n",
    "        \n",
    "        Лучше использовать её.\n",
    "        \n",
    "      * C10H12N2O8Na4*4H2O (Na4 - `тетра`натриевая соль), ЭДТУК, EDTA    \n",
    "2. KOH \n",
    "\n",
    "3. Fe - Сульфат железа (II) семиводный `FeSO4*7H2O` (Fe 20,1%)\n",
    "\n",
    "4. Основное микро\n",
    "   * Mn - Марганец (II) сернокислый 5-водный, `MnSO4*5H2O` (Mn 21.95%)\n",
    "   * B - Борная кислота `H3BO3`, (B 17,5%)\n",
    "   * Zn - Цинк сернокислый 7-водный `ZnSO4*7H2O`, (Zn 22,7%)\n",
    "   * Cu - Медь (II) сернокислая 5-водная `CuSO4*5H2O`, (Cu 25,5%)\n",
    "   * Mo - Аммоний молибденовокислый 4х-водный `(NH4)6Mo7O24*4H2O`, (Mo 54,3%)\n",
    "    \n",
    "5. Опционально, обычно не требуется\n",
    "   * Co - Сульфат кобальта семиводный `CoSO4*7H2O` (Co 21%)\n",
    "   * Si - Кремнекислый натрий пятиводный `Na2SiO3*5H2O` (Si 13,2%)\n",
    "\n",
    "6. Стакан термостойкий на 250-400мл. Не колба, т.к. нужно измерять pH\n",
    "7. Мешалка или стеклянная палочка\n",
    "\n",
    "## Расчет\n",
    "\n",
    "Сначала определяемся с профилем микро.\n",
    "\n",
    "Допустим у наc профиль, в микрограммах:\n",
    "\n",
    "`Fe=4500; Mn=600; B=600; Zn=400; Cu=100; Mo=100`\n",
    "\n",
    "Хотим приготовить концентрат микро 1:1000 на 2 литра\n",
    "\n",
    "На 1 моль железа приходится 1 моль Трилона-Б\n",
    "\n",
    "Находим молярную массу Трилона Б: - `372.2369`\n",
    "\n",
    "* [Можно воспользоваться этим калькулятором](https://apkawa.github.io/react-fertilizer-calculator/#/formula/C10H14N2Na2O8*2H2O/)\n",
    "* [Или этим](https://ru.webqc.org/molecular-weight-of-C10H14N2Na2O8%2A2H2O.html)\n",
    "\n",
    "\n",
    "Находим молярную массу сульфата железа: - `278.0146`\n",
    "\n",
    "Делим моли трилона на моли железа, получаем коэфициент:\n",
    "\n",
    "$$ K_{ТрилонБ} = \\frac{M_{ТрилонБ}}{M_{FeSO4*7H2O}} = \\frac{372.2369}{278.0146} = 1.3389\n",
    "$$\n",
    "\n",
    "Далее нужно вычислить навеску железа\n",
    "\n",
    "Есть 2 пути.\n",
    "\n",
    "1) Рассчитать самому\n",
    "   \n",
    "   * Вычисляем массовую долю железа в сульфате железа, с учетом паспорта (ЧДА 100,6%):\\\n",
    "   \n",
    "$$Fe = \\frac{М_{Fe}}{M_{FeSO4*7H2O}} \\cdot \\frac{Чистота_{FeSO4*7H2O}}{100} $$\n",
    "   Где $M_{Fe}$ и $M_{FeSO4*7H2O}$ - молярные массы\n",
    "   \n",
    "   Или воспользоваться [калькулятором](https://apkawa.github.io/react-fertilizer-calculator/#/formula/FeSO4*7H2O/100.6) и взяв железо из NPK\n",
    "   \n",
    "   * Вычисляем необходимое количество сульфата железа в г/л\n",
    "   ```\n",
    "   m = ((Профиль / Fe% ) / мкг в г) * V * C\n",
    "   m = ((4500 / 0.2021) / 10^6) * 2 * 1000 = 44.5г\n",
    "   ```\n",
    "   V - объем \n",
    "   C - концентрация\n",
    "   \n",
    "\n",
    "2) Воспользоваться калькулятором\n",
    "   * Забиваем формулу сульфата железа с учетом паспорта в удобрения\n",
    "   * Выбираем в калькуляторе сульфат железа, профиль, желаемый объем и концентрацию\n",
    "   * Calculate\n",
    "   \n",
    "Получаем `44.5г` сульфата железа.\n",
    "Аналогично поступаем с остальными элементами:\n",
    "   * `5.47г` - Марганец (II) сернокислый 5-водный\n",
    "   * `0.79г` - Медь сернокислая (II) 5-водная\n",
    "   * `3.58г` - Цинк сернокислый\n",
    "   * `6.87г` - Борная кислота\n",
    "   * `0.37г` - Аммоний молибденовокислый 4-водный\n",
    "\n",
    "\n",
    "Необходимое количество Трилона Б, с учетом паспорта (ЧДА 99,6%)\n",
    "$$\n",
    "m_{ТрилонБ} = m{Fe} \\cdot K_{ТрилонБ} \\cdot \\left( \\frac{100+(100-Чистота_{ТрилонБ})}{100}\\right)\n",
    "$$\n",
    "```\n",
    "(44.5 * 1.3389) * ((100 + (100 - 99.6)) / 100) =  59.82г \n",
    "```\n",
    "\n",
    "Необходимое количество KOH, с учетом паспорта (ЧДА 90%)\n",
    "\n",
    "[2 KOH + FeSO4 → K2SO4 + Fe(OH)2](https://chemequations.com/ru/?s=KOH%20%2B%20FeSO4%20%3D%20K2SO4%20%2B%20Fe(OH)2&ref=search)\n",
    "$$\n",
    "m_{KOH} = m{Fe} \\cdot \\frac{2M_{KOH}}{M_{FeSO4*7H2O}} \\cdot \\left( \\frac{100+(100-Чистота_{KOH})}{100}\\right)\n",
    "$$\n",
    "\n",
    "```\n",
    "56.10564 * 2 / 278.0146 = 0.403\n",
    "(44.5 * 0.403) * ((100 + (100 - 90)) / 100)  = 19.72г\n",
    "```\n",
    "\n",
    "Массу остальных солей не учитываем, т.к. нет необходимости хелатировать остальные соли. \n",
    "Хелатирование солей нужно в случае аквариумистики, чтобы рыбам было хорошо.\n"
   ]
  },
  {
   "cell_type": "code",
   "execution_count": 1,
   "id": "anonymous-tenant",
   "metadata": {},
   "outputs": [
    {
     "name": "stdout",
     "output_type": "stream",
     "text": [
      "Requirement already satisfied: sympy in /home/apkawa/.local/lib/python3.9/site-packages (1.7.1)\r\n",
      "Requirement already satisfied: mpmath>=0.19 in /home/apkawa/.local/lib/python3.9/site-packages (from sympy) (1.1.0)\r\n"
     ]
    }
   ],
   "source": [
    "# Install a pip package in the current Jupyter kernel\n",
    "import sys\n",
    "!{sys.executable} -m pip install sympy\n",
    "\n",
    "import sympy as sym\n",
    "from sympy import Eq\n",
    "sym.init_printing()\n",
    "from IPython.display import Math, display\n",
    "import ipywidgets as widgets"
   ]
  },
  {
   "cell_type": "code",
   "execution_count": 2,
   "id": "electrical-asbestos",
   "metadata": {},
   "outputs": [
    {
     "data": {
      "application/vnd.jupyter.widget-view+json": {
       "model_id": "a4efdbc0c77c4f9da0604a4bb53320b3",
       "version_major": 2,
       "version_minor": 0
      },
      "text/plain": [
       "BoundedIntText(value=4500, description='Fe профиль, в мкг/л', max=10000, min=1, step=0)"
      ]
     },
     "metadata": {},
     "output_type": "display_data"
    },
    {
     "data": {
      "application/vnd.jupyter.widget-view+json": {
       "model_id": "7d20bf8d8433457eaa52d363f2db47d6",
       "version_major": 2,
       "version_minor": 0
      },
      "text/plain": [
       "BoundedFloatText(value=2.0, description='Объем, в л', min=0.1, step=0.01)"
      ]
     },
     "metadata": {},
     "output_type": "display_data"
    },
    {
     "data": {
      "application/vnd.jupyter.widget-view+json": {
       "model_id": "db0ec7b5ba12423cb295289472e7c59f",
       "version_major": 2,
       "version_minor": 0
      },
      "text/plain": [
       "BoundedIntText(value=1000, description='Концентрация, разы', max=5000, min=1)"
      ]
     },
     "metadata": {},
     "output_type": "display_data"
    },
    {
     "data": {
      "application/vnd.jupyter.widget-view+json": {
       "model_id": "3c13ba990dd14aeea590176587dcef14",
       "version_major": 2,
       "version_minor": 0
      },
      "text/plain": [
       "BoundedFloatText(value=100.6, description='Чистота FeSO4', max=200.0, min=1.0, step=0.01)"
      ]
     },
     "metadata": {},
     "output_type": "display_data"
    },
    {
     "data": {
      "application/vnd.jupyter.widget-view+json": {
       "model_id": "54ab3146aa654d12a3b693bcbce381e2",
       "version_major": 2,
       "version_minor": 0
      },
      "text/plain": [
       "BoundedFloatText(value=99.6, description='Чистота Трилона Б', max=200.0, min=1.0, step=0.01)"
      ]
     },
     "metadata": {},
     "output_type": "display_data"
    },
    {
     "data": {
      "application/vnd.jupyter.widget-view+json": {
       "model_id": "3c8251e8a2034cf799c853105bdea59c",
       "version_major": 2,
       "version_minor": 0
      },
      "text/plain": [
       "BoundedFloatText(value=90.0, description='Чистота KOH', max=200.0, min=1.0, step=0.01)"
      ]
     },
     "metadata": {},
     "output_type": "display_data"
    },
    {
     "data": {
      "application/vnd.jupyter.widget-view+json": {
       "model_id": "e80c51629c13477e9309b041e9c9f686",
       "version_major": 2,
       "version_minor": 0
      },
      "text/plain": [
       "Output(layout=Layout(border='1px solid black'))"
      ]
     },
     "metadata": {},
     "output_type": "display_data"
    }
   ],
   "source": [
    "Fe_profile = widgets.BoundedIntText(\n",
    "    value=4500,\n",
    "    min=1,\n",
    "    max=10000,\n",
    "    step=0.1,\n",
    "    description='Fe профиль, в мкг/л',\n",
    "    disabled=False\n",
    ")\n",
    "Volume = widgets.BoundedFloatText(\n",
    "    value=2,\n",
    "    min=0.1,\n",
    "    max=100,\n",
    "    step=0.01,\n",
    "    description='Объем, в л',\n",
    "    disabled=False\n",
    ")\n",
    "Concentration = widgets.BoundedIntText(\n",
    "    value=1000,\n",
    "    min=1,\n",
    "    max=5000,\n",
    "    step=1,\n",
    "    description='Концентрация, разы',\n",
    "    disabled=False\n",
    ")\n",
    "Fe_clean = widgets.BoundedFloatText(\n",
    "    value=100.6,\n",
    "    min=1,\n",
    "    max=200,\n",
    "    step=0.01,\n",
    "    description='Чистота FeSO4',\n",
    "    disabled=False\n",
    ")\n",
    "ChelateB_clean = widgets.BoundedFloatText(\n",
    "    value=99.6,\n",
    "    min=1,\n",
    "    max=200,\n",
    "    step=0.01,\n",
    "    description='Чистота Трилона Б',\n",
    "    disabled=False\n",
    ")\n",
    "KOH_clean = widgets.BoundedFloatText(\n",
    "    value=90,\n",
    "    min=1,\n",
    "    max=200,\n",
    "    step=0.01,\n",
    "    description='Чистота KOH',\n",
    "    disabled=False\n",
    ")\n",
    "\n",
    "out = widgets.Output(layout={'border': '1px solid black'})\n",
    "out\n",
    "\n",
    "\n",
    "\n",
    "M_ChelateB = 372.2369\n",
    "M_Fe = 55.8452\n",
    "M_FeSO4_7H2O = 278.0146\n",
    "M_KOH = 56.10564\n",
    "\n",
    "\n",
    "\n",
    "# Функция расчета\n",
    "def calculate(*args):\n",
    "    Fe_p = (M_Fe / M_FeSO4_7H2O) * (Fe_clean.value / 100)\n",
    "    m_FeSO4 = ((Fe_profile.value / Fe_p) / 10**6) * Volume.value * Concentration.value\n",
    "    m_ChelateB = (m_FeSO4 * (M_ChelateB / M_FeSO4_7H2O)) * ((100 + (100 - ChelateB_clean.value)) / 100)\n",
    "    m_KOH = (m_FeSO4 * ((M_KOH * 2) / M_FeSO4_7H2O)) * ((100 + (100 - KOH_clean.value)) / 100)\n",
    "    out.clear_output()\n",
    "    with out:\n",
    "        print(f'Навеска FeSO4 = {m_FeSO4:0.2f}г')\n",
    "        print(f'Навеска ТрилонаБ = {m_ChelateB:0.2f}г')\n",
    "        print(f'Навеска KOH = {m_KOH:.2f}г')\n",
    "    \n",
    "calculate()\n",
    "\n",
    "Inputs = [Fe_profile, Volume, Concentration, Fe_clean, ChelateB_clean, KOH_clean]\n",
    "for i in Inputs:\n",
    "    i.observe(calculate, names='value')\n",
    "\n",
    "display(*(Inputs + [out]))\n"
   ]
  },
  {
   "cell_type": "markdown",
   "id": "fourth-marshall",
   "metadata": {},
   "source": [
    "## Изготовление\n",
    "\n",
    "### Способ Сергея\n",
    "\n",
    "1. Налить в стакан `100мл` кипятка\n",
    "2. Добавить рассчитанную выше навеску сульфата железа - `44.5г`\n",
    "3. Тщательно перемешивать. Цвет бурый \n",
    "   \n",
    "   ![](./chelates/EDTA_make_1.jpg)\n",
    "   \n",
    "4. В зависимости от вида трилона, ди или тетра\n",
    "   * Динатриевая соль \n",
    "     \n",
    "      Добавлять KOH до тех пор пока не станет pH=7\n",
    "     \n",
    "      Цвет становится черным, как кока-кола \n",
    "     \n",
    "      ![](./chelates/EDTA_make_2.jpg)\n",
    "      \n",
    "   * Тетранатриевая соль \n",
    "     \n",
    "      Ничего не делать, раствор дб кислым. (TODO уточнить)\n",
    "     \n",
    "5. Высыпать трилон, перемешивая. Не всю навеску сразу, а понемногу. \n",
    "   \n",
    "   Раствор начнет светлеть но еще будет мутным. \n",
    "   \n",
    "   Как только он станет прозрачным - все прореагировало. \n",
    "   \n",
    "   Раствор может еще покраснеть через некоторое время\n",
    "   \n",
    "   ![](./chelates/EDTA_make_3.jpg)\n",
    "\n",
    "6. Добавить оставшееся микро\n",
    "7. Разбавить, в нашем случае до 2л\n",
    "\n",
    "### Способ Вильяма\n",
    "\n",
    "1. Налить в стакан `100мл` кипятка\n",
    "2. Добавить рассчитанную выше навеску сульфата железа\n",
    "3. Тщательно перемешивать. Цвет бурый \n",
    "   \n",
    "   ![](./chelates/EDTA_make_1.jpg)\n",
    "   \n",
    "4. Высыпать трилон, перемешивая. Всю рассчитанную навеску.\n",
    "   (TODO картиночки)\n",
    "   \n",
    "5. В зависимости от вида трилона, ди или тетра\n",
    "   \n",
    "   * Динатриевая соль \n",
    "     \n",
    "     Добавлять понемногу KOH \n",
    "     \n",
    "     И когда допустим только посветлел, я немного мути оставляю, оно само доходит \n",
    "     \n",
    "     после молочного цвета\n",
    "     \n",
    "\n",
    "   * Тетранатриевая соль \n",
    "     \n",
    "     Ничего не делать, раствор дб кислым. (TODO уточнить)\n",
    "\n",
    "\n",
    "6. Добавить оставшееся микро\n",
    "7. Разбавить, в нашем случае до 2л\n",
    "\n",
    "## Способ `Alex Simonec` (технолога по удобрениям)\n",
    "\n",
    "\n",
    "1. Делаем навески: \n",
    "   \n",
    "   * 1 л обычной воды. \n",
    "   * 90 грамм дистиллированной воды, \n",
    "   * расчетное количество Сульфата Железа\n",
    "   * расчетное количество Трилона Б \n",
    "   * расчетное количество KOH\n",
    "     \n",
    "2. Берется 2 л бутылка и наливается в нее 1 л обычной воды.  \n",
    "   \n",
    "   Добавить сульфат железа, закрыть крышкой и расколачивать до полного растворения.\n",
    "   \n",
    "   Открыть крышку и засыпать KOH.\n",
    "   \n",
    "   Закрыть крышку и перемешиваешь до полного растворения. \n",
    "   \n",
    "3. начнется реакция: вода становиться прозрачной, выпадает темный осадок.\n",
    "4. Поставить на 12-24 часов отстояться.\n",
    "5. После отстоя максимально слить воду, оставляя только осадок.\n",
    "6. После к осадку долить 90 грамм дистиллированной воды и добавить Трилон Б, размешать, раствор зеленеет. \n",
    "7. рН должен быть в диапазоне 4-6, если не доходить - догони до 5 щелочью, порциями по 0,05 грамм.\n",
    "   \n",
    "8. Добавить оставшееся микро\n",
    "9. Разбавить, в нашем случае до 2л"
   ]
  }
 ],
 "metadata": {
  "kernelspec": {
   "display_name": "Python 3",
   "language": "python",
   "name": "python3"
  },
  "language_info": {
   "codemirror_mode": {
    "name": "ipython",
    "version": 3
   },
   "file_extension": ".py",
   "mimetype": "text/x-python",
   "name": "python",
   "nbconvert_exporter": "python",
   "pygments_lexer": "ipython3",
   "version": "3.9.1"
  },
  "widgets": {
   "application/vnd.jupyter.widget-state+json": {
    "state": {
     "026f660f65d947848cec8dcf26cd9df7": {
      "model_module": "@jupyter-widgets/controls",
      "model_module_version": "1.5.0",
      "model_name": "DescriptionStyleModel",
      "state": {
       "description_width": ""
      }
     },
     "0554af94aefd40748546fc658cab0a54": {
      "model_module": "@jupyter-widgets/controls",
      "model_module_version": "1.5.0",
      "model_name": "DescriptionStyleModel",
      "state": {
       "description_width": ""
      }
     },
     "05de56adea8a44e4a651c99a6b13020c": {
      "model_module": "@jupyter-widgets/controls",
      "model_module_version": "1.5.0",
      "model_name": "DescriptionStyleModel",
      "state": {
       "description_width": ""
      }
     },
     "0ba33c6163504426a9369b20d65bd560": {
      "model_module": "@jupyter-widgets/controls",
      "model_module_version": "1.5.0",
      "model_name": "BoundedIntTextModel",
      "state": {
       "description": "Концентрация, разы",
       "layout": "IPY_MODEL_26e8d2e99a114e8a944b86f73021f4a1",
       "max": 5000,
       "min": 1,
       "style": "IPY_MODEL_1a5e2a13e69c437281ceaf04529fabfa",
       "value": 1000
      }
     },
     "0d02a49f210941e28c6c0515f675c2e5": {
      "model_module": "@jupyter-widgets/controls",
      "model_module_version": "1.5.0",
      "model_name": "BoundedFloatTextModel",
      "state": {
       "description": "Чистота KOH",
       "layout": "IPY_MODEL_75b4c047e9f644419bf8f8757bc25513",
       "max": 200,
       "min": 1,
       "step": 0.01,
       "style": "IPY_MODEL_5d371aadb5f34a6082107acb1cafe78e",
       "value": 90
      }
     },
     "0d68f08843f74012ad9c095ca9c7ac13": {
      "model_module": "@jupyter-widgets/controls",
      "model_module_version": "1.5.0",
      "model_name": "DescriptionStyleModel",
      "state": {
       "description_width": ""
      }
     },
     "0e40be22c5d94fbdb934c84976bf6e41": {
      "model_module": "@jupyter-widgets/output",
      "model_module_version": "1.0.0",
      "model_name": "OutputModel",
      "state": {
       "layout": "IPY_MODEL_d6e86313ab81481e927b5dcccc7c148d",
       "outputs": [
        {
         "name": "stdout",
         "output_type": "stream",
         "text": "Навеска FeSO4 = 6.68г\nНавеска ТрилонаБ = 8.98г\nНавеска KOH = 2.97г\n"
        }
       ]
      }
     },
     "171ca325f4b743a49eb8b21033b3b8fb": {
      "model_module": "@jupyter-widgets/controls",
      "model_module_version": "1.5.0",
      "model_name": "BoundedIntTextModel",
      "state": {
       "description": "Fe профиль, в мкг/л",
       "layout": "IPY_MODEL_a28b6ef108904f0aa3169c49dabb6534",
       "max": 10000,
       "min": 1,
       "step": 0,
       "style": "IPY_MODEL_960c4235852e4523b6631a022cbe45fd",
       "value": 4500
      }
     },
     "176886ffdf1e45499dfb644b2074b349": {
      "model_module": "@jupyter-widgets/base",
      "model_module_version": "1.2.0",
      "model_name": "LayoutModel",
      "state": {}
     },
     "19d4d401f3464afd9f89d60f074c5b42": {
      "model_module": "@jupyter-widgets/base",
      "model_module_version": "1.2.0",
      "model_name": "LayoutModel",
      "state": {}
     },
     "1a027c3a1b9d4f5591a9d7ec215304c5": {
      "model_module": "@jupyter-widgets/controls",
      "model_module_version": "1.5.0",
      "model_name": "DescriptionStyleModel",
      "state": {
       "description_width": ""
      }
     },
     "1a5e2a13e69c437281ceaf04529fabfa": {
      "model_module": "@jupyter-widgets/controls",
      "model_module_version": "1.5.0",
      "model_name": "DescriptionStyleModel",
      "state": {
       "description_width": ""
      }
     },
     "1c1064092e634949b7763d8265daf589": {
      "model_module": "@jupyter-widgets/base",
      "model_module_version": "1.2.0",
      "model_name": "LayoutModel",
      "state": {
       "border": "1px solid black"
      }
     },
     "1d2f20c4952149f791c715c1a092030a": {
      "model_module": "@jupyter-widgets/base",
      "model_module_version": "1.2.0",
      "model_name": "LayoutModel",
      "state": {}
     },
     "1ec28aadaf024922aed8275a648b58ae": {
      "model_module": "@jupyter-widgets/controls",
      "model_module_version": "1.5.0",
      "model_name": "BoundedFloatTextModel",
      "state": {
       "description": "Объем, в л",
       "layout": "IPY_MODEL_1d2f20c4952149f791c715c1a092030a",
       "min": 0.1,
       "step": 0.01,
       "style": "IPY_MODEL_2c98b42b79bd4e04a3349fe0e748e3e9",
       "value": 2
      }
     },
     "1f2b7aba40224583beb616ca3d7a2a5b": {
      "model_module": "@jupyter-widgets/controls",
      "model_module_version": "1.5.0",
      "model_name": "DescriptionStyleModel",
      "state": {
       "description_width": ""
      }
     },
     "1f6a202e29584a8bbbdef8b2556205c4": {
      "model_module": "@jupyter-widgets/base",
      "model_module_version": "1.2.0",
      "model_name": "LayoutModel",
      "state": {}
     },
     "1fd22ecdedef4d5bba90ab1dc5feecf5": {
      "model_module": "@jupyter-widgets/output",
      "model_module_version": "1.0.0",
      "model_name": "OutputModel",
      "state": {
       "layout": "IPY_MODEL_9cbb1fb61bfd4e1598f8be55e1b4baa9",
       "outputs": [
        {
         "name": "stdout",
         "output_type": "stream",
         "text": "Навеска FeSO4 = 44.54г\nНавеска ТрилонаБ = 59.870г\nНавеска KOH = 19.774г\n"
        }
       ]
      }
     },
     "2010ab21b44842ecb1e4156944a80dc2": {
      "model_module": "@jupyter-widgets/controls",
      "model_module_version": "1.5.0",
      "model_name": "BoundedIntTextModel",
      "state": {
       "description": "Концентрация, разы",
       "layout": "IPY_MODEL_92dd0d02982e4b0087144f42487fd911",
       "max": 5000,
       "min": 1,
       "style": "IPY_MODEL_f66a7cbacf0543d0a11bd1fa158a9327",
       "value": 1000
      }
     },
     "208f04c9aaf1430a846eea6ab97b156f": {
      "model_module": "@jupyter-widgets/base",
      "model_module_version": "1.2.0",
      "model_name": "LayoutModel",
      "state": {}
     },
     "22c37edabb97451baa4acfccf1fb18b3": {
      "model_module": "@jupyter-widgets/base",
      "model_module_version": "1.2.0",
      "model_name": "LayoutModel",
      "state": {}
     },
     "23360d8635714e5a8a65e8c1e8d96c66": {
      "model_module": "@jupyter-widgets/base",
      "model_module_version": "1.2.0",
      "model_name": "LayoutModel",
      "state": {}
     },
     "2577a5b97ef943d7a8cd3436bb7f2241": {
      "model_module": "@jupyter-widgets/output",
      "model_module_version": "1.0.0",
      "model_name": "OutputModel",
      "state": {
       "layout": "IPY_MODEL_7f4f059861a64b5999cf7fd3c75284f2",
       "outputs": [
        {
         "name": "stdout",
         "output_type": "stream",
         "text": "Навеска FeSO4 = 7.349г\nНавеска ТрилонаБ = 9.879г\nНавеска KOH = 3.263г\n"
        }
       ]
      }
     },
     "26a63ff29a7a4e34bfa3888a8341f2cd": {
      "model_module": "@jupyter-widgets/controls",
      "model_module_version": "1.5.0",
      "model_name": "DescriptionStyleModel",
      "state": {
       "description_width": ""
      }
     },
     "26e8d2e99a114e8a944b86f73021f4a1": {
      "model_module": "@jupyter-widgets/base",
      "model_module_version": "1.2.0",
      "model_name": "LayoutModel",
      "state": {}
     },
     "293a2c923cfd41a9b1f72c711516dbf6": {
      "model_module": "@jupyter-widgets/controls",
      "model_module_version": "1.5.0",
      "model_name": "BoundedFloatTextModel",
      "state": {
       "description": "Чистота KOH",
       "layout": "IPY_MODEL_715f64a250e944dabf5cfebb23e7ce5b",
       "max": 200,
       "min": 1,
       "step": 0.01,
       "style": "IPY_MODEL_9d8d1c7cd8314f97a900cb668ed5733c",
       "value": 90
      }
     },
     "2bef439763f2445d9f01b546490fb339": {
      "model_module": "@jupyter-widgets/base",
      "model_module_version": "1.2.0",
      "model_name": "LayoutModel",
      "state": {}
     },
     "2c98b42b79bd4e04a3349fe0e748e3e9": {
      "model_module": "@jupyter-widgets/controls",
      "model_module_version": "1.5.0",
      "model_name": "DescriptionStyleModel",
      "state": {
       "description_width": ""
      }
     },
     "2e3d3917b64745e8b65354ad6127782c": {
      "model_module": "@jupyter-widgets/controls",
      "model_module_version": "1.5.0",
      "model_name": "BoundedFloatTextModel",
      "state": {
       "description": "Объем, в л",
       "layout": "IPY_MODEL_23360d8635714e5a8a65e8c1e8d96c66",
       "min": 0.1,
       "step": 0.01,
       "style": "IPY_MODEL_33063cd691b54833a3e435bea1794a2e",
       "value": 2
      }
     },
     "30bea97135bf460ab730dfbd6ae8c02f": {
      "model_module": "@jupyter-widgets/controls",
      "model_module_version": "1.5.0",
      "model_name": "DescriptionStyleModel",
      "state": {
       "description_width": ""
      }
     },
     "31e9e6405d42406aa36a87f7815dc97c": {
      "model_module": "@jupyter-widgets/controls",
      "model_module_version": "1.5.0",
      "model_name": "DescriptionStyleModel",
      "state": {
       "description_width": ""
      }
     },
     "33063cd691b54833a3e435bea1794a2e": {
      "model_module": "@jupyter-widgets/controls",
      "model_module_version": "1.5.0",
      "model_name": "DescriptionStyleModel",
      "state": {
       "description_width": ""
      }
     },
     "341864b9258445ed9eec09718a145c85": {
      "model_module": "@jupyter-widgets/controls",
      "model_module_version": "1.5.0",
      "model_name": "BoundedIntTextModel",
      "state": {
       "description": "Fe профиль, в мкг/л",
       "layout": "IPY_MODEL_e8643a42409d4c86b2932cc7ff93611d",
       "max": 10000,
       "min": 1,
       "step": 0,
       "style": "IPY_MODEL_e78e096be3c14289b0df196a7393adaf",
       "value": 4500
      }
     },
     "36692a77234e4ed0a00fc80e3f4b9390": {
      "model_module": "@jupyter-widgets/base",
      "model_module_version": "1.2.0",
      "model_name": "LayoutModel",
      "state": {}
     },
     "3776141549d6434393d3570486b7b97f": {
      "model_module": "@jupyter-widgets/base",
      "model_module_version": "1.2.0",
      "model_name": "LayoutModel",
      "state": {}
     },
     "39a54afde3734a50a75a0a2ba46bf570": {
      "model_module": "@jupyter-widgets/controls",
      "model_module_version": "1.5.0",
      "model_name": "BoundedIntTextModel",
      "state": {
       "description": "Концентрация, разы",
       "layout": "IPY_MODEL_2bef439763f2445d9f01b546490fb339",
       "max": 5000,
       "min": 1,
       "style": "IPY_MODEL_b8930b6a3be04915a9d449dbdc723519",
       "value": 1000
      }
     },
     "3bdb7dbec57b4c1099cdcbfbdd2d97e6": {
      "model_module": "@jupyter-widgets/controls",
      "model_module_version": "1.5.0",
      "model_name": "BoundedFloatTextModel",
      "state": {
       "description": "Чистота KOH",
       "layout": "IPY_MODEL_3776141549d6434393d3570486b7b97f",
       "max": 200,
       "min": 1,
       "step": 0.01,
       "style": "IPY_MODEL_69863652d9984fcd8cfdc9b40ee719f0",
       "value": 90
      }
     },
     "3c13ba990dd14aeea590176587dcef14": {
      "model_module": "@jupyter-widgets/controls",
      "model_module_version": "1.5.0",
      "model_name": "BoundedFloatTextModel",
      "state": {
       "description": "Чистота FeSO4",
       "layout": "IPY_MODEL_f02190750ca0495ca55395ba341533be",
       "max": 200,
       "min": 1,
       "step": 0.01,
       "style": "IPY_MODEL_e895328e64a44949aebb91a25cc11b7a",
       "value": 100.6
      }
     },
     "3c8251e8a2034cf799c853105bdea59c": {
      "model_module": "@jupyter-widgets/controls",
      "model_module_version": "1.5.0",
      "model_name": "BoundedFloatTextModel",
      "state": {
       "description": "Чистота KOH",
       "layout": "IPY_MODEL_a4df1896f31649b88c06b9878a43f853",
       "max": 200,
       "min": 1,
       "step": 0.01,
       "style": "IPY_MODEL_61ee26928e54492ab107b1045771caee",
       "value": 90
      }
     },
     "41a0b9e974794561918ac5a34ddcec5c": {
      "model_module": "@jupyter-widgets/controls",
      "model_module_version": "1.5.0",
      "model_name": "BoundedFloatTextModel",
      "state": {
       "description": "Чистота FeSO4",
       "layout": "IPY_MODEL_629163936ed34a478cbd10c038805fb2",
       "max": 200,
       "min": 1,
       "step": 0.01,
       "style": "IPY_MODEL_77853084941444b7b2f0d4d2f800828d",
       "value": 100.6
      }
     },
     "4338c9e4428b4a1d887d1c46e0e9d27d": {
      "model_module": "@jupyter-widgets/controls",
      "model_module_version": "1.5.0",
      "model_name": "BoundedFloatTextModel",
      "state": {
       "description": "Объем, в л",
       "layout": "IPY_MODEL_e775b64e7db546999039e66255226df5",
       "min": 0.1,
       "step": 0.01,
       "style": "IPY_MODEL_4fb25b6340e5403f830ea721db21419b",
       "value": 0.33
      }
     },
     "445154ce5e08415cb3729403d7419a4a": {
      "model_module": "@jupyter-widgets/controls",
      "model_module_version": "1.5.0",
      "model_name": "BoundedFloatTextModel",
      "state": {
       "description": "Чистота KOH",
       "layout": "IPY_MODEL_e281e926e5f145bfbee6f29a1a4b0ec3",
       "max": 200,
       "min": 1,
       "step": 0.01,
       "style": "IPY_MODEL_30bea97135bf460ab730dfbd6ae8c02f",
       "value": 90
      }
     },
     "4538aa20da4a4422b6d4dceba7c3de3c": {
      "model_module": "@jupyter-widgets/controls",
      "model_module_version": "1.5.0",
      "model_name": "BoundedFloatTextModel",
      "state": {
       "description": "Чистота Трилона Б",
       "layout": "IPY_MODEL_f2aa54d59473483693726789ac56e3d8",
       "max": 200,
       "min": 1,
       "step": 0.01,
       "style": "IPY_MODEL_b7f2891fc86f4c4eb30be3b0aab531ff",
       "value": 99.6
      }
     },
     "4669e628baee4cf1b71a80b0e01e7cf0": {
      "model_module": "@jupyter-widgets/controls",
      "model_module_version": "1.5.0",
      "model_name": "BoundedFloatTextModel",
      "state": {
       "description": "Чистота FeSO4",
       "layout": "IPY_MODEL_a6f57f9d4ca944f6b0ce785c5ac4c196",
       "max": 200,
       "min": 1,
       "step": 0.01,
       "style": "IPY_MODEL_0554af94aefd40748546fc658cab0a54",
       "value": 100.6
      }
     },
     "468e2b4da3f249dd81afc327065a2f6e": {
      "model_module": "@jupyter-widgets/base",
      "model_module_version": "1.2.0",
      "model_name": "LayoutModel",
      "state": {}
     },
     "477efc184887410a96af77a67da597bf": {
      "model_module": "@jupyter-widgets/base",
      "model_module_version": "1.2.0",
      "model_name": "LayoutModel",
      "state": {
       "border": "1px solid black"
      }
     },
     "49970e6b62654b24996147ee9b2724d2": {
      "model_module": "@jupyter-widgets/controls",
      "model_module_version": "1.5.0",
      "model_name": "BoundedFloatTextModel",
      "state": {
       "description": "Чистота Трилона Б",
       "layout": "IPY_MODEL_468e2b4da3f249dd81afc327065a2f6e",
       "max": 200,
       "min": 1,
       "step": 0.01,
       "style": "IPY_MODEL_4c48334b6a424c4e84f2fb758d5ac768",
       "value": 99.6
      }
     },
     "4a902135b50c4a7abf0d6c037d06b7dd": {
      "model_module": "@jupyter-widgets/controls",
      "model_module_version": "1.5.0",
      "model_name": "BoundedFloatTextModel",
      "state": {
       "description": "Чистота FeSO4",
       "layout": "IPY_MODEL_19d4d401f3464afd9f89d60f074c5b42",
       "max": 200,
       "min": 1,
       "step": 0.01,
       "style": "IPY_MODEL_68e33107163141f3bd5547cbed03baa0",
       "value": 100.6
      }
     },
     "4abbb6e2a3174eaa95cd0889769ec5be": {
      "model_module": "@jupyter-widgets/base",
      "model_module_version": "1.2.0",
      "model_name": "LayoutModel",
      "state": {}
     },
     "4c48334b6a424c4e84f2fb758d5ac768": {
      "model_module": "@jupyter-widgets/controls",
      "model_module_version": "1.5.0",
      "model_name": "DescriptionStyleModel",
      "state": {
       "description_width": ""
      }
     },
     "4df44593b56b40da84a467ac49d7d95f": {
      "model_module": "@jupyter-widgets/controls",
      "model_module_version": "1.5.0",
      "model_name": "DescriptionStyleModel",
      "state": {
       "description_width": ""
      }
     },
     "4fb25b6340e5403f830ea721db21419b": {
      "model_module": "@jupyter-widgets/controls",
      "model_module_version": "1.5.0",
      "model_name": "DescriptionStyleModel",
      "state": {
       "description_width": ""
      }
     },
     "4fb612369cbd4dd3a16b4b62133b97ff": {
      "model_module": "@jupyter-widgets/base",
      "model_module_version": "1.2.0",
      "model_name": "LayoutModel",
      "state": {}
     },
     "500acfd0fa974ffba9223415c00af278": {
      "model_module": "@jupyter-widgets/base",
      "model_module_version": "1.2.0",
      "model_name": "LayoutModel",
      "state": {}
     },
     "522c1c6e4e304595b0da2251174fc6ab": {
      "model_module": "@jupyter-widgets/controls",
      "model_module_version": "1.5.0",
      "model_name": "DescriptionStyleModel",
      "state": {
       "description_width": ""
      }
     },
     "5337606a165d41b4bdbf1823341a35c7": {
      "model_module": "@jupyter-widgets/base",
      "model_module_version": "1.2.0",
      "model_name": "LayoutModel",
      "state": {
       "border": "1px solid black"
      }
     },
     "54ab3146aa654d12a3b693bcbce381e2": {
      "model_module": "@jupyter-widgets/controls",
      "model_module_version": "1.5.0",
      "model_name": "BoundedFloatTextModel",
      "state": {
       "description": "Чистота Трилона Б",
       "layout": "IPY_MODEL_dc173eb82b90423c81b2da36042e03ce",
       "max": 200,
       "min": 1,
       "step": 0.01,
       "style": "IPY_MODEL_6f5d435264964b00b33d2898ed47cff0",
       "value": 99.6
      }
     },
     "56bd759211d8459488b6fced034f13fb": {
      "model_module": "@jupyter-widgets/controls",
      "model_module_version": "1.5.0",
      "model_name": "DescriptionStyleModel",
      "state": {
       "description_width": ""
      }
     },
     "5b7149c63b7740d89ccd956b2ab1ebe7": {
      "model_module": "@jupyter-widgets/base",
      "model_module_version": "1.2.0",
      "model_name": "LayoutModel",
      "state": {}
     },
     "5bcac5392e98489790a7fa45fbd65ffe": {
      "model_module": "@jupyter-widgets/base",
      "model_module_version": "1.2.0",
      "model_name": "LayoutModel",
      "state": {}
     },
     "5d371aadb5f34a6082107acb1cafe78e": {
      "model_module": "@jupyter-widgets/controls",
      "model_module_version": "1.5.0",
      "model_name": "DescriptionStyleModel",
      "state": {
       "description_width": ""
      }
     },
     "5d702e8f8d14442c91952c083aeec9ce": {
      "model_module": "@jupyter-widgets/controls",
      "model_module_version": "1.5.0",
      "model_name": "BoundedIntTextModel",
      "state": {
       "description": "Концентрация, разы",
       "layout": "IPY_MODEL_b2ebbb0c3a164ec6953d35214c0c685b",
       "max": 5000,
       "min": 1,
       "style": "IPY_MODEL_1f2b7aba40224583beb616ca3d7a2a5b",
       "value": 1000
      }
     },
     "5e087b5282f94278ae0a39ae199b532f": {
      "model_module": "@jupyter-widgets/output",
      "model_module_version": "1.0.0",
      "model_name": "OutputModel",
      "state": {
       "layout": "IPY_MODEL_b4944a78088845448d5cb581e76420b5",
       "outputs": [
        {
         "name": "stdout",
         "output_type": "stream",
         "text": "Навеска FeSO4 = 22.269г\nНавеска ТрилонаБ = 29.935г\nНавеска KOH = 9.887г\n"
        }
       ]
      }
     },
     "5ef94cc22d1345009c8f2db65817fb12": {
      "model_module": "@jupyter-widgets/controls",
      "model_module_version": "1.5.0",
      "model_name": "DescriptionStyleModel",
      "state": {
       "description_width": ""
      }
     },
     "61a7be4d8daf41ea90193e433cbf2a40": {
      "model_module": "@jupyter-widgets/output",
      "model_module_version": "1.0.0",
      "model_name": "OutputModel",
      "state": {
       "layout": "IPY_MODEL_477efc184887410a96af77a67da597bf",
       "outputs": [
        {
         "name": "stdout",
         "output_type": "stream",
         "text": "Навеска FeSO4 = 7.349г\nНавеска ТрилонаБ = 9.879г\nНавеска KOH = 3.26г\n"
        }
       ]
      }
     },
     "61ee26928e54492ab107b1045771caee": {
      "model_module": "@jupyter-widgets/controls",
      "model_module_version": "1.5.0",
      "model_name": "DescriptionStyleModel",
      "state": {
       "description_width": ""
      }
     },
     "62138648e30146b0ad73cf3d95328ad0": {
      "model_module": "@jupyter-widgets/base",
      "model_module_version": "1.2.0",
      "model_name": "LayoutModel",
      "state": {}
     },
     "629163936ed34a478cbd10c038805fb2": {
      "model_module": "@jupyter-widgets/base",
      "model_module_version": "1.2.0",
      "model_name": "LayoutModel",
      "state": {}
     },
     "644c54cba03b4e108382382fe7531953": {
      "model_module": "@jupyter-widgets/controls",
      "model_module_version": "1.5.0",
      "model_name": "BoundedIntTextModel",
      "state": {
       "description": "Концентрация, разы",
       "layout": "IPY_MODEL_d4fd815c4a81470ab67a02d9074a334a",
       "max": 5000,
       "min": 1,
       "style": "IPY_MODEL_31e9e6405d42406aa36a87f7815dc97c",
       "value": 1000
      }
     },
     "667757eb65474e2ebf3df0f03ccd38d3": {
      "model_module": "@jupyter-widgets/controls",
      "model_module_version": "1.5.0",
      "model_name": "BoundedIntTextModel",
      "state": {
       "description": "Концентрация, разы",
       "layout": "IPY_MODEL_62138648e30146b0ad73cf3d95328ad0",
       "max": 5000,
       "min": 1,
       "style": "IPY_MODEL_764ca50059fc4db3b4e3b707a84fb5a8",
       "value": 1000
      }
     },
     "68c8109eb19449989608c8b07d86d2b5": {
      "model_module": "@jupyter-widgets/controls",
      "model_module_version": "1.5.0",
      "model_name": "DescriptionStyleModel",
      "state": {
       "description_width": ""
      }
     },
     "68e33107163141f3bd5547cbed03baa0": {
      "model_module": "@jupyter-widgets/controls",
      "model_module_version": "1.5.0",
      "model_name": "DescriptionStyleModel",
      "state": {
       "description_width": ""
      }
     },
     "69190c87d1214be7be6a68e8fec1dc47": {
      "model_module": "@jupyter-widgets/base",
      "model_module_version": "1.2.0",
      "model_name": "LayoutModel",
      "state": {}
     },
     "694dbdfa8fbb4d7581a9ac1e233f9912": {
      "model_module": "@jupyter-widgets/controls",
      "model_module_version": "1.5.0",
      "model_name": "BoundedFloatTextModel",
      "state": {
       "description": "Объем, в л",
       "layout": "IPY_MODEL_22c37edabb97451baa4acfccf1fb18b3",
       "min": 1,
       "step": 0.01,
       "style": "IPY_MODEL_26a63ff29a7a4e34bfa3888a8341f2cd",
       "value": 1
      }
     },
     "69863652d9984fcd8cfdc9b40ee719f0": {
      "model_module": "@jupyter-widgets/controls",
      "model_module_version": "1.5.0",
      "model_name": "DescriptionStyleModel",
      "state": {
       "description_width": ""
      }
     },
     "69c06b1e77f047a6bc223e9fdfd4c8e7": {
      "model_module": "@jupyter-widgets/base",
      "model_module_version": "1.2.0",
      "model_name": "LayoutModel",
      "state": {}
     },
     "6ad63d21f9d3405f8064c4c1754a9459": {
      "model_module": "@jupyter-widgets/controls",
      "model_module_version": "1.5.0",
      "model_name": "DescriptionStyleModel",
      "state": {
       "description_width": ""
      }
     },
     "6e4d100f661d4fd9b9821e371e2d9eea": {
      "model_module": "@jupyter-widgets/base",
      "model_module_version": "1.2.0",
      "model_name": "LayoutModel",
      "state": {}
     },
     "6f5d435264964b00b33d2898ed47cff0": {
      "model_module": "@jupyter-widgets/controls",
      "model_module_version": "1.5.0",
      "model_name": "DescriptionStyleModel",
      "state": {
       "description_width": ""
      }
     },
     "6fcb6c4c79344642b8d391d64a01388b": {
      "model_module": "@jupyter-widgets/base",
      "model_module_version": "1.2.0",
      "model_name": "LayoutModel",
      "state": {
       "border": "1px solid black"
      }
     },
     "715f64a250e944dabf5cfebb23e7ce5b": {
      "model_module": "@jupyter-widgets/base",
      "model_module_version": "1.2.0",
      "model_name": "LayoutModel",
      "state": {}
     },
     "754ce7a2eeee4c2ead5b48ceaaa51ee2": {
      "model_module": "@jupyter-widgets/controls",
      "model_module_version": "1.5.0",
      "model_name": "BoundedIntTextModel",
      "state": {
       "description": "Fe профиль, в мкг/л",
       "layout": "IPY_MODEL_a4d1a8ac152842a9a3cfd80062283031",
       "max": 10000,
       "min": 1,
       "step": 0,
       "style": "IPY_MODEL_f278491a4f67477aaba17891d543d8ca",
       "value": 4500
      }
     },
     "75b4c047e9f644419bf8f8757bc25513": {
      "model_module": "@jupyter-widgets/base",
      "model_module_version": "1.2.0",
      "model_name": "LayoutModel",
      "state": {}
     },
     "764ca50059fc4db3b4e3b707a84fb5a8": {
      "model_module": "@jupyter-widgets/controls",
      "model_module_version": "1.5.0",
      "model_name": "DescriptionStyleModel",
      "state": {
       "description_width": ""
      }
     },
     "7703d55981904ca6a328eab8cbfcf4b5": {
      "model_module": "@jupyter-widgets/controls",
      "model_module_version": "1.5.0",
      "model_name": "BoundedFloatTextModel",
      "state": {
       "description": "Чистота Трилона Б",
       "layout": "IPY_MODEL_36692a77234e4ed0a00fc80e3f4b9390",
       "max": 200,
       "min": 1,
       "step": 0.01,
       "style": "IPY_MODEL_5ef94cc22d1345009c8f2db65817fb12",
       "value": 99.6
      }
     },
     "7709469b7d9844438a33f79d4be8e242": {
      "model_module": "@jupyter-widgets/output",
      "model_module_version": "1.0.0",
      "model_name": "OutputModel",
      "state": {
       "layout": "IPY_MODEL_6fcb6c4c79344642b8d391d64a01388b",
       "outputs": [
        {
         "name": "stdout",
         "output_type": "stream",
         "text": "Навеска FeSO4 = 44.54г\nНавеска ТрилонаБ = 59.87г\nНавеска KOH = 19.77г\n"
        }
       ]
      }
     },
     "77853084941444b7b2f0d4d2f800828d": {
      "model_module": "@jupyter-widgets/controls",
      "model_module_version": "1.5.0",
      "model_name": "DescriptionStyleModel",
      "state": {
       "description_width": ""
      }
     },
     "778cf49a51de4c84b5bce3d36c9706eb": {
      "model_module": "@jupyter-widgets/controls",
      "model_module_version": "1.5.0",
      "model_name": "BoundedIntTextModel",
      "state": {
       "description": "Fe профиль, в мкг/л",
       "layout": "IPY_MODEL_fd709fda58884e0e9ac79910b4072bc5",
       "max": 10000,
       "min": 1,
       "step": 0,
       "style": "IPY_MODEL_d4592585cb3f445593529c182960b5c1",
       "value": 4500
      }
     },
     "79a75ce217734d3da3da220fe44d3ce2": {
      "model_module": "@jupyter-widgets/controls",
      "model_module_version": "1.5.0",
      "model_name": "DescriptionStyleModel",
      "state": {
       "description_width": ""
      }
     },
     "7bbd75d2413848eaa1e38d6c29419c05": {
      "model_module": "@jupyter-widgets/controls",
      "model_module_version": "1.5.0",
      "model_name": "BoundedFloatTextModel",
      "state": {
       "description": "Объем, в л",
       "layout": "IPY_MODEL_500acfd0fa974ffba9223415c00af278",
       "min": 0.1,
       "step": 0.01,
       "style": "IPY_MODEL_bf6060bae4b04d4f8f6bd1cf25b87226",
       "value": 2
      }
     },
     "7d20bf8d8433457eaa52d363f2db47d6": {
      "model_module": "@jupyter-widgets/controls",
      "model_module_version": "1.5.0",
      "model_name": "BoundedFloatTextModel",
      "state": {
       "description": "Объем, в л",
       "layout": "IPY_MODEL_69190c87d1214be7be6a68e8fec1dc47",
       "min": 0.1,
       "step": 0.01,
       "style": "IPY_MODEL_ba304b10cfb54f04a01b2ca954d0a140",
       "value": 2
      }
     },
     "7e30eac21c074add9dd1ac399589ba5c": {
      "model_module": "@jupyter-widgets/controls",
      "model_module_version": "1.5.0",
      "model_name": "BoundedIntTextModel",
      "state": {
       "description": "Концентрация, разы",
       "layout": "IPY_MODEL_5b7149c63b7740d89ccd956b2ab1ebe7",
       "max": 5000,
       "min": 1,
       "style": "IPY_MODEL_4df44593b56b40da84a467ac49d7d95f",
       "value": 1000
      }
     },
     "7f4f059861a64b5999cf7fd3c75284f2": {
      "model_module": "@jupyter-widgets/base",
      "model_module_version": "1.2.0",
      "model_name": "LayoutModel",
      "state": {
       "border": "1px solid black"
      }
     },
     "827ba319fcb2435cbb161c58571ce6e1": {
      "model_module": "@jupyter-widgets/controls",
      "model_module_version": "1.5.0",
      "model_name": "DescriptionStyleModel",
      "state": {
       "description_width": ""
      }
     },
     "8300b623edef438ba8e3abb7f6e235d6": {
      "model_module": "@jupyter-widgets/controls",
      "model_module_version": "1.5.0",
      "model_name": "DescriptionStyleModel",
      "state": {
       "description_width": ""
      }
     },
     "843dab878c0c483b8b2388425c228d6d": {
      "model_module": "@jupyter-widgets/controls",
      "model_module_version": "1.5.0",
      "model_name": "BoundedFloatTextModel",
      "state": {
       "description": "Чистота Трилона Б",
       "layout": "IPY_MODEL_890ba294f641454294f9a6a59db9e509",
       "max": 200,
       "min": 1,
       "step": 0.01,
       "style": "IPY_MODEL_cab251611e1041d497c256fb3cff9e7a",
       "value": 99.6
      }
     },
     "845e07ba8d1a46798b1cb4af4408d6ad": {
      "model_module": "@jupyter-widgets/controls",
      "model_module_version": "1.5.0",
      "model_name": "BoundedFloatTextModel",
      "state": {
       "description": "Чистота FeSO4",
       "layout": "IPY_MODEL_f0a8fa7dc6404c85b7d7c5a3e928fb9d",
       "max": 200,
       "min": 1,
       "step": 0.01,
       "style": "IPY_MODEL_a86a9256f646421bacd8030ce6c78054",
       "value": 100.6
      }
     },
     "890ba294f641454294f9a6a59db9e509": {
      "model_module": "@jupyter-widgets/base",
      "model_module_version": "1.2.0",
      "model_name": "LayoutModel",
      "state": {}
     },
     "8b00d7fae54a47efabf26b8cd6c2adcb": {
      "model_module": "@jupyter-widgets/base",
      "model_module_version": "1.2.0",
      "model_name": "LayoutModel",
      "state": {}
     },
     "8b095d257edc410a8590efe94b465854": {
      "model_module": "@jupyter-widgets/controls",
      "model_module_version": "1.5.0",
      "model_name": "BoundedFloatTextModel",
      "state": {
       "description": "Чистота KOH",
       "layout": "IPY_MODEL_4abbb6e2a3174eaa95cd0889769ec5be",
       "max": 200,
       "min": 1,
       "step": 0.01,
       "style": "IPY_MODEL_79a75ce217734d3da3da220fe44d3ce2",
       "value": 90
      }
     },
     "8efb7b8dc7a845bda2616473e62c25c8": {
      "model_module": "@jupyter-widgets/output",
      "model_module_version": "1.0.0",
      "model_name": "OutputModel",
      "state": {
       "layout": "IPY_MODEL_d7e353f8e90c478a975fd345e9155f0b",
       "outputs": [
        {
         "name": "stdout",
         "output_type": "stream",
         "text": "Навеска FeSO4 = 44.538г\nНавеска ТрилонаБ = 59.870г\nНавеска KOH = 19.774г\n"
        }
       ]
      }
     },
     "90ae785117bb48b7aa3969ec211b8786": {
      "model_module": "@jupyter-widgets/controls",
      "model_module_version": "1.5.0",
      "model_name": "DescriptionStyleModel",
      "state": {
       "description_width": ""
      }
     },
     "911912c093fc427b9a492d44c7ddf466": {
      "model_module": "@jupyter-widgets/controls",
      "model_module_version": "1.5.0",
      "model_name": "BoundedFloatTextModel",
      "state": {
       "description": "Объем, в л",
       "layout": "IPY_MODEL_c02e1e427ea14b4582738a90f9caa9bb",
       "min": 0.1,
       "step": 0.01,
       "style": "IPY_MODEL_90ae785117bb48b7aa3969ec211b8786",
       "value": 0.33
      }
     },
     "92dd0d02982e4b0087144f42487fd911": {
      "model_module": "@jupyter-widgets/base",
      "model_module_version": "1.2.0",
      "model_name": "LayoutModel",
      "state": {}
     },
     "940e2753de38474f846ef0bbb146a3d3": {
      "model_module": "@jupyter-widgets/controls",
      "model_module_version": "1.5.0",
      "model_name": "BoundedFloatTextModel",
      "state": {
       "description": "Объем, в л",
       "layout": "IPY_MODEL_69c06b1e77f047a6bc223e9fdfd4c8e7",
       "min": 0.1,
       "step": 0.01,
       "style": "IPY_MODEL_b2260c4ca8354920a9cdfd0db0f2835c",
       "value": 2
      }
     },
     "95df0e75d8be400a83ba542a9d90aa7d": {
      "model_module": "@jupyter-widgets/base",
      "model_module_version": "1.2.0",
      "model_name": "LayoutModel",
      "state": {}
     },
     "960c4235852e4523b6631a022cbe45fd": {
      "model_module": "@jupyter-widgets/controls",
      "model_module_version": "1.5.0",
      "model_name": "DescriptionStyleModel",
      "state": {
       "description_width": ""
      }
     },
     "99ba47026e1b4799b840cac6892ea277": {
      "model_module": "@jupyter-widgets/base",
      "model_module_version": "1.2.0",
      "model_name": "LayoutModel",
      "state": {}
     },
     "9cbb1fb61bfd4e1598f8be55e1b4baa9": {
      "model_module": "@jupyter-widgets/base",
      "model_module_version": "1.2.0",
      "model_name": "LayoutModel",
      "state": {
       "border": "1px solid black"
      }
     },
     "9d8d1c7cd8314f97a900cb668ed5733c": {
      "model_module": "@jupyter-widgets/controls",
      "model_module_version": "1.5.0",
      "model_name": "DescriptionStyleModel",
      "state": {
       "description_width": ""
      }
     },
     "a236bfdfc3c642ea980f96080128ddf3": {
      "model_module": "@jupyter-widgets/controls",
      "model_module_version": "1.5.0",
      "model_name": "DescriptionStyleModel",
      "state": {
       "description_width": ""
      }
     },
     "a28b6ef108904f0aa3169c49dabb6534": {
      "model_module": "@jupyter-widgets/base",
      "model_module_version": "1.2.0",
      "model_name": "LayoutModel",
      "state": {}
     },
     "a36d765968ab41f7a27cf235c9495182": {
      "model_module": "@jupyter-widgets/controls",
      "model_module_version": "1.5.0",
      "model_name": "BoundedFloatTextModel",
      "state": {
       "description": "Чистота Трилона Б",
       "layout": "IPY_MODEL_d2cc8bdbb6324500a022ea81fabcf087",
       "max": 200,
       "min": 1,
       "step": 0.01,
       "style": "IPY_MODEL_68c8109eb19449989608c8b07d86d2b5",
       "value": 99.6
      }
     },
     "a3943e58c978460d8120488edd3484c2": {
      "model_module": "@jupyter-widgets/controls",
      "model_module_version": "1.5.0",
      "model_name": "DescriptionStyleModel",
      "state": {
       "description_width": ""
      }
     },
     "a4d1a8ac152842a9a3cfd80062283031": {
      "model_module": "@jupyter-widgets/base",
      "model_module_version": "1.2.0",
      "model_name": "LayoutModel",
      "state": {}
     },
     "a4df1896f31649b88c06b9878a43f853": {
      "model_module": "@jupyter-widgets/base",
      "model_module_version": "1.2.0",
      "model_name": "LayoutModel",
      "state": {}
     },
     "a4efdbc0c77c4f9da0604a4bb53320b3": {
      "model_module": "@jupyter-widgets/controls",
      "model_module_version": "1.5.0",
      "model_name": "BoundedIntTextModel",
      "state": {
       "description": "Fe профиль, в мкг/л",
       "layout": "IPY_MODEL_dc272f67a7504cedad64155919e99f51",
       "max": 10000,
       "min": 1,
       "step": 0,
       "style": "IPY_MODEL_56bd759211d8459488b6fced034f13fb",
       "value": 4500
      }
     },
     "a57f5826e238476393afc8eaa5382be4": {
      "model_module": "@jupyter-widgets/controls",
      "model_module_version": "1.5.0",
      "model_name": "BoundedFloatTextModel",
      "state": {
       "description": "Чистота FeSO4",
       "layout": "IPY_MODEL_99ba47026e1b4799b840cac6892ea277",
       "max": 200,
       "min": 1,
       "step": 0.01,
       "style": "IPY_MODEL_026f660f65d947848cec8dcf26cd9df7",
       "value": 100.6
      }
     },
     "a5ba6c96e62a4e2fa96105cebc7c5dec": {
      "model_module": "@jupyter-widgets/controls",
      "model_module_version": "1.5.0",
      "model_name": "BoundedFloatTextModel",
      "state": {
       "description": "Чистота Трилона Б",
       "layout": "IPY_MODEL_bd00d84d91464655bf9bfb9e289c8eb9",
       "max": 200,
       "min": 1,
       "step": 0.01,
       "style": "IPY_MODEL_0d68f08843f74012ad9c095ca9c7ac13",
       "value": 99.6
      }
     },
     "a6f57f9d4ca944f6b0ce785c5ac4c196": {
      "model_module": "@jupyter-widgets/base",
      "model_module_version": "1.2.0",
      "model_name": "LayoutModel",
      "state": {}
     },
     "a86a9256f646421bacd8030ce6c78054": {
      "model_module": "@jupyter-widgets/controls",
      "model_module_version": "1.5.0",
      "model_name": "DescriptionStyleModel",
      "state": {
       "description_width": ""
      }
     },
     "b0be582edc6b498ca3ca6db337661dff": {
      "model_module": "@jupyter-widgets/base",
      "model_module_version": "1.2.0",
      "model_name": "LayoutModel",
      "state": {}
     },
     "b1ae2f1372754d39afabd34f0e65da2c": {
      "model_module": "@jupyter-widgets/controls",
      "model_module_version": "1.5.0",
      "model_name": "BoundedFloatTextModel",
      "state": {
       "description": "Чистота FeSO4",
       "layout": "IPY_MODEL_d41c489278b6481bb38e4ad6f850dcba",
       "max": 200,
       "min": 1,
       "step": 0.01,
       "style": "IPY_MODEL_a236bfdfc3c642ea980f96080128ddf3",
       "value": 100.6
      }
     },
     "b2260c4ca8354920a9cdfd0db0f2835c": {
      "model_module": "@jupyter-widgets/controls",
      "model_module_version": "1.5.0",
      "model_name": "DescriptionStyleModel",
      "state": {
       "description_width": ""
      }
     },
     "b2ebbb0c3a164ec6953d35214c0c685b": {
      "model_module": "@jupyter-widgets/base",
      "model_module_version": "1.2.0",
      "model_name": "LayoutModel",
      "state": {}
     },
     "b454388fce0f4405a3190e93a3d9099e": {
      "model_module": "@jupyter-widgets/controls",
      "model_module_version": "1.5.0",
      "model_name": "BoundedFloatTextModel",
      "state": {
       "description": "Объем, в л",
       "layout": "IPY_MODEL_b81dbaf11fe54a329aa26aff60c674a3",
       "min": 0.1,
       "step": 0.01,
       "style": "IPY_MODEL_05de56adea8a44e4a651c99a6b13020c",
       "value": 0.3
      }
     },
     "b4944a78088845448d5cb581e76420b5": {
      "model_module": "@jupyter-widgets/base",
      "model_module_version": "1.2.0",
      "model_name": "LayoutModel",
      "state": {
       "border": "1px solid black"
      }
     },
     "b4ebf4a233a749daa7201908a4d75a89": {
      "model_module": "@jupyter-widgets/base",
      "model_module_version": "1.2.0",
      "model_name": "LayoutModel",
      "state": {}
     },
     "b551eb73901148f69eecaf3aaa88a51a": {
      "model_module": "@jupyter-widgets/controls",
      "model_module_version": "1.5.0",
      "model_name": "BoundedFloatTextModel",
      "state": {
       "description": "Чистота Трилона Б",
       "layout": "IPY_MODEL_b0be582edc6b498ca3ca6db337661dff",
       "max": 200,
       "min": 1,
       "step": 0.01,
       "style": "IPY_MODEL_8300b623edef438ba8e3abb7f6e235d6",
       "value": 99.6
      }
     },
     "b5ec37a3666f4a4995ff32a5fb17cb38": {
      "model_module": "@jupyter-widgets/base",
      "model_module_version": "1.2.0",
      "model_name": "LayoutModel",
      "state": {}
     },
     "b7d3cc38f3f3466ea7d7ec87da92bbeb": {
      "model_module": "@jupyter-widgets/controls",
      "model_module_version": "1.5.0",
      "model_name": "BoundedIntTextModel",
      "state": {
       "description": "Fe профиль, в мкг/л",
       "layout": "IPY_MODEL_b8f512c761004314bdb20dae33c8084f",
       "max": 10000,
       "min": 1,
       "step": 0,
       "style": "IPY_MODEL_cad0072101014e94adcbc152a0bd4b3a",
       "value": 4500
      }
     },
     "b7f2891fc86f4c4eb30be3b0aab531ff": {
      "model_module": "@jupyter-widgets/controls",
      "model_module_version": "1.5.0",
      "model_name": "DescriptionStyleModel",
      "state": {
       "description_width": ""
      }
     },
     "b81dbaf11fe54a329aa26aff60c674a3": {
      "model_module": "@jupyter-widgets/base",
      "model_module_version": "1.2.0",
      "model_name": "LayoutModel",
      "state": {}
     },
     "b8930b6a3be04915a9d449dbdc723519": {
      "model_module": "@jupyter-widgets/controls",
      "model_module_version": "1.5.0",
      "model_name": "DescriptionStyleModel",
      "state": {
       "description_width": ""
      }
     },
     "b8f512c761004314bdb20dae33c8084f": {
      "model_module": "@jupyter-widgets/base",
      "model_module_version": "1.2.0",
      "model_name": "LayoutModel",
      "state": {}
     },
     "ba304b10cfb54f04a01b2ca954d0a140": {
      "model_module": "@jupyter-widgets/controls",
      "model_module_version": "1.5.0",
      "model_name": "DescriptionStyleModel",
      "state": {
       "description_width": ""
      }
     },
     "bd00d84d91464655bf9bfb9e289c8eb9": {
      "model_module": "@jupyter-widgets/base",
      "model_module_version": "1.2.0",
      "model_name": "LayoutModel",
      "state": {}
     },
     "bd5b18e42dff4743b47747f1cf27d2c1": {
      "model_module": "@jupyter-widgets/controls",
      "model_module_version": "1.5.0",
      "model_name": "BoundedFloatTextModel",
      "state": {
       "description": "Чистота KOH",
       "layout": "IPY_MODEL_95df0e75d8be400a83ba542a9d90aa7d",
       "max": 200,
       "min": 1,
       "step": 0.01,
       "style": "IPY_MODEL_522c1c6e4e304595b0da2251174fc6ab",
       "value": 90
      }
     },
     "bf6060bae4b04d4f8f6bd1cf25b87226": {
      "model_module": "@jupyter-widgets/controls",
      "model_module_version": "1.5.0",
      "model_name": "DescriptionStyleModel",
      "state": {
       "description_width": ""
      }
     },
     "c02e1e427ea14b4582738a90f9caa9bb": {
      "model_module": "@jupyter-widgets/base",
      "model_module_version": "1.2.0",
      "model_name": "LayoutModel",
      "state": {}
     },
     "c2f99df44a77457ba64faf71d25b76f4": {
      "model_module": "@jupyter-widgets/controls",
      "model_module_version": "1.5.0",
      "model_name": "DescriptionStyleModel",
      "state": {
       "description_width": ""
      }
     },
     "c774d2c30bff4ef6bbb0f4a30d04f3a1": {
      "model_module": "@jupyter-widgets/controls",
      "model_module_version": "1.5.0",
      "model_name": "DescriptionStyleModel",
      "state": {
       "description_width": ""
      }
     },
     "cab251611e1041d497c256fb3cff9e7a": {
      "model_module": "@jupyter-widgets/controls",
      "model_module_version": "1.5.0",
      "model_name": "DescriptionStyleModel",
      "state": {
       "description_width": ""
      }
     },
     "cad0072101014e94adcbc152a0bd4b3a": {
      "model_module": "@jupyter-widgets/controls",
      "model_module_version": "1.5.0",
      "model_name": "DescriptionStyleModel",
      "state": {
       "description_width": ""
      }
     },
     "cbedaeca806a467ab53e9f40dba345de": {
      "model_module": "@jupyter-widgets/output",
      "model_module_version": "1.0.0",
      "model_name": "OutputModel",
      "state": {
       "layout": "IPY_MODEL_1c1064092e634949b7763d8265daf589",
       "outputs": [
        {
         "name": "stdout",
         "output_type": "stream",
         "text": "Навеска FeSO4 = 44.538г\nНавеска ТрилонаБ = 59.870г\nНавеска KOH = 19.774г\n"
        }
       ]
      }
     },
     "cc4bed68057544bf88bb0f7a3f2e93f5": {
      "model_module": "@jupyter-widgets/controls",
      "model_module_version": "1.5.0",
      "model_name": "DescriptionStyleModel",
      "state": {
       "description_width": ""
      }
     },
     "d1fed675f19e4d51866ee3dae37d8fe0": {
      "model_module": "@jupyter-widgets/controls",
      "model_module_version": "1.5.0",
      "model_name": "BoundedFloatTextModel",
      "state": {
       "description": "Чистота KOH",
       "layout": "IPY_MODEL_b5ec37a3666f4a4995ff32a5fb17cb38",
       "max": 200,
       "min": 1,
       "step": 0.01,
       "style": "IPY_MODEL_1a027c3a1b9d4f5591a9d7ec215304c5",
       "value": 90
      }
     },
     "d251ec21277d4897b5fbfe4dead138c3": {
      "model_module": "@jupyter-widgets/controls",
      "model_module_version": "1.5.0",
      "model_name": "DescriptionStyleModel",
      "state": {
       "description_width": ""
      }
     },
     "d2cc8bdbb6324500a022ea81fabcf087": {
      "model_module": "@jupyter-widgets/base",
      "model_module_version": "1.2.0",
      "model_name": "LayoutModel",
      "state": {}
     },
     "d2ff2a2906f54f38860fd0760a875e43": {
      "model_module": "@jupyter-widgets/controls",
      "model_module_version": "1.5.0",
      "model_name": "BoundedIntTextModel",
      "state": {
       "description": "Концентрация, разы",
       "layout": "IPY_MODEL_8b00d7fae54a47efabf26b8cd6c2adcb",
       "max": 5000,
       "min": 1,
       "style": "IPY_MODEL_c774d2c30bff4ef6bbb0f4a30d04f3a1",
       "value": 1000
      }
     },
     "d41c489278b6481bb38e4ad6f850dcba": {
      "model_module": "@jupyter-widgets/base",
      "model_module_version": "1.2.0",
      "model_name": "LayoutModel",
      "state": {}
     },
     "d4592585cb3f445593529c182960b5c1": {
      "model_module": "@jupyter-widgets/controls",
      "model_module_version": "1.5.0",
      "model_name": "DescriptionStyleModel",
      "state": {
       "description_width": ""
      }
     },
     "d4fd815c4a81470ab67a02d9074a334a": {
      "model_module": "@jupyter-widgets/base",
      "model_module_version": "1.2.0",
      "model_name": "LayoutModel",
      "state": {}
     },
     "d6e86313ab81481e927b5dcccc7c148d": {
      "model_module": "@jupyter-widgets/base",
      "model_module_version": "1.2.0",
      "model_name": "LayoutModel",
      "state": {
       "border": "1px solid black"
      }
     },
     "d7a30e5b6de44c7da36d0e2b19cc1f9b": {
      "model_module": "@jupyter-widgets/controls",
      "model_module_version": "1.5.0",
      "model_name": "BoundedIntTextModel",
      "state": {
       "description": "Fe профиль, в мкг/л",
       "layout": "IPY_MODEL_176886ffdf1e45499dfb644b2074b349",
       "max": 10000,
       "min": 1,
       "step": 0,
       "style": "IPY_MODEL_827ba319fcb2435cbb161c58571ce6e1",
       "value": 4500
      }
     },
     "d7e353f8e90c478a975fd345e9155f0b": {
      "model_module": "@jupyter-widgets/base",
      "model_module_version": "1.2.0",
      "model_name": "LayoutModel",
      "state": {
       "border": "1px solid black"
      }
     },
     "d9a00ac889f54e41a0e926f869beeeec": {
      "model_module": "@jupyter-widgets/controls",
      "model_module_version": "1.5.0",
      "model_name": "BoundedFloatTextModel",
      "state": {
       "description": "Чистота KOH",
       "layout": "IPY_MODEL_b4ebf4a233a749daa7201908a4d75a89",
       "max": 200,
       "min": 1,
       "step": 0.01,
       "style": "IPY_MODEL_a3943e58c978460d8120488edd3484c2",
       "value": 90
      }
     },
     "db0ec7b5ba12423cb295289472e7c59f": {
      "model_module": "@jupyter-widgets/controls",
      "model_module_version": "1.5.0",
      "model_name": "BoundedIntTextModel",
      "state": {
       "description": "Концентрация, разы",
       "layout": "IPY_MODEL_1f6a202e29584a8bbbdef8b2556205c4",
       "max": 5000,
       "min": 1,
       "style": "IPY_MODEL_d251ec21277d4897b5fbfe4dead138c3",
       "value": 1000
      }
     },
     "dbeb1133732440baa2ef5a07770e57c5": {
      "model_module": "@jupyter-widgets/controls",
      "model_module_version": "1.5.0",
      "model_name": "BoundedIntTextModel",
      "state": {
       "description": "Fe профиль, в мкг/л",
       "layout": "IPY_MODEL_5bcac5392e98489790a7fa45fbd65ffe",
       "max": 10000,
       "min": 1,
       "step": 0,
       "style": "IPY_MODEL_f1c4d48553ad4a54823f7edb4c12bedd",
       "value": 4500
      }
     },
     "dc173eb82b90423c81b2da36042e03ce": {
      "model_module": "@jupyter-widgets/base",
      "model_module_version": "1.2.0",
      "model_name": "LayoutModel",
      "state": {}
     },
     "dc272f67a7504cedad64155919e99f51": {
      "model_module": "@jupyter-widgets/base",
      "model_module_version": "1.2.0",
      "model_name": "LayoutModel",
      "state": {}
     },
     "e281e926e5f145bfbee6f29a1a4b0ec3": {
      "model_module": "@jupyter-widgets/base",
      "model_module_version": "1.2.0",
      "model_name": "LayoutModel",
      "state": {}
     },
     "e65e8d7c653548eb8216c2495bebe510": {
      "model_module": "@jupyter-widgets/controls",
      "model_module_version": "1.5.0",
      "model_name": "BoundedFloatTextModel",
      "state": {
       "description": "Чистота FeSO4",
       "layout": "IPY_MODEL_208f04c9aaf1430a846eea6ab97b156f",
       "max": 200,
       "min": 1,
       "step": 0.01,
       "style": "IPY_MODEL_c2f99df44a77457ba64faf71d25b76f4",
       "value": 100.6
      }
     },
     "e775b64e7db546999039e66255226df5": {
      "model_module": "@jupyter-widgets/base",
      "model_module_version": "1.2.0",
      "model_name": "LayoutModel",
      "state": {}
     },
     "e78e096be3c14289b0df196a7393adaf": {
      "model_module": "@jupyter-widgets/controls",
      "model_module_version": "1.5.0",
      "model_name": "DescriptionStyleModel",
      "state": {
       "description_width": ""
      }
     },
     "e80c51629c13477e9309b041e9c9f686": {
      "model_module": "@jupyter-widgets/output",
      "model_module_version": "1.0.0",
      "model_name": "OutputModel",
      "state": {
       "layout": "IPY_MODEL_5337606a165d41b4bdbf1823341a35c7",
       "outputs": [
        {
         "name": "stdout",
         "output_type": "stream",
         "text": "Навеска FeSO4 = 44.54г\nНавеска ТрилонаБ = 59.87г\nНавеска KOH = 19.77г\n"
        }
       ]
      }
     },
     "e8643a42409d4c86b2932cc7ff93611d": {
      "model_module": "@jupyter-widgets/base",
      "model_module_version": "1.2.0",
      "model_name": "LayoutModel",
      "state": {}
     },
     "e895328e64a44949aebb91a25cc11b7a": {
      "model_module": "@jupyter-widgets/controls",
      "model_module_version": "1.5.0",
      "model_name": "DescriptionStyleModel",
      "state": {
       "description_width": ""
      }
     },
     "e9d25a82cd0d44f7885a0852e3a077b9": {
      "model_module": "@jupyter-widgets/controls",
      "model_module_version": "1.5.0",
      "model_name": "DescriptionStyleModel",
      "state": {
       "description_width": ""
      }
     },
     "f02190750ca0495ca55395ba341533be": {
      "model_module": "@jupyter-widgets/base",
      "model_module_version": "1.2.0",
      "model_name": "LayoutModel",
      "state": {}
     },
     "f0a8fa7dc6404c85b7d7c5a3e928fb9d": {
      "model_module": "@jupyter-widgets/base",
      "model_module_version": "1.2.0",
      "model_name": "LayoutModel",
      "state": {}
     },
     "f107c7b5819d48d3bafd7bce86cc967c": {
      "model_module": "@jupyter-widgets/controls",
      "model_module_version": "1.5.0",
      "model_name": "BoundedFloatTextModel",
      "state": {
       "description": "Чистота Трилона Б",
       "layout": "IPY_MODEL_4fb612369cbd4dd3a16b4b62133b97ff",
       "max": 200,
       "min": 1,
       "step": 0.01,
       "style": "IPY_MODEL_cc4bed68057544bf88bb0f7a3f2e93f5",
       "value": 99.6
      }
     },
     "f11ca7f9e03e426a82f9aab1158016eb": {
      "model_module": "@jupyter-widgets/base",
      "model_module_version": "1.2.0",
      "model_name": "LayoutModel",
      "state": {}
     },
     "f1c4d48553ad4a54823f7edb4c12bedd": {
      "model_module": "@jupyter-widgets/controls",
      "model_module_version": "1.5.0",
      "model_name": "DescriptionStyleModel",
      "state": {
       "description_width": ""
      }
     },
     "f266ddefa11842c297bccae541cab854": {
      "model_module": "@jupyter-widgets/controls",
      "model_module_version": "1.5.0",
      "model_name": "BoundedFloatTextModel",
      "state": {
       "description": "Чистота FeSO4",
       "layout": "IPY_MODEL_6e4d100f661d4fd9b9821e371e2d9eea",
       "max": 200,
       "min": 1,
       "step": 0.01,
       "style": "IPY_MODEL_e9d25a82cd0d44f7885a0852e3a077b9",
       "value": 100.6
      }
     },
     "f278491a4f67477aaba17891d543d8ca": {
      "model_module": "@jupyter-widgets/controls",
      "model_module_version": "1.5.0",
      "model_name": "DescriptionStyleModel",
      "state": {
       "description_width": ""
      }
     },
     "f2aa54d59473483693726789ac56e3d8": {
      "model_module": "@jupyter-widgets/base",
      "model_module_version": "1.2.0",
      "model_name": "LayoutModel",
      "state": {}
     },
     "f36303b4a0a84bd3b1566a478a3239c5": {
      "model_module": "@jupyter-widgets/controls",
      "model_module_version": "1.5.0",
      "model_name": "BoundedIntTextModel",
      "state": {
       "description": "Fe профиль, в мкг/л",
       "layout": "IPY_MODEL_f11ca7f9e03e426a82f9aab1158016eb",
       "max": 10000,
       "min": 1,
       "step": 0,
       "style": "IPY_MODEL_6ad63d21f9d3405f8064c4c1754a9459",
       "value": 4500
      }
     },
     "f66a7cbacf0543d0a11bd1fa158a9327": {
      "model_module": "@jupyter-widgets/controls",
      "model_module_version": "1.5.0",
      "model_name": "DescriptionStyleModel",
      "state": {
       "description_width": ""
      }
     },
     "fd709fda58884e0e9ac79910b4072bc5": {
      "model_module": "@jupyter-widgets/base",
      "model_module_version": "1.2.0",
      "model_name": "LayoutModel",
      "state": {}
     }
    },
    "version_major": 2,
    "version_minor": 0
   }
  }
 },
 "nbformat": 4,
 "nbformat_minor": 5
}
